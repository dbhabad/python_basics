{
 "cells": [
  {
   "cell_type": "code",
   "execution_count": null,
   "id": "2ab7ffb0",
   "metadata": {},
   "outputs": [],
   "source": [
    "def sample():\n",
    "    print('This is printed from sample function..!!')"
   ]
  },
  {
   "cell_type": "code",
   "execution_count": null,
   "id": "72678515",
   "metadata": {},
   "outputs": [],
   "source": [
    "sample()"
   ]
  },
  {
   "cell_type": "code",
   "execution_count": null,
   "id": "32b21bef",
   "metadata": {},
   "outputs": [],
   "source": [
    "sample()"
   ]
  },
  {
   "cell_type": "code",
   "execution_count": null,
   "id": "4be1fb9c",
   "metadata": {},
   "outputs": [],
   "source": [
    "print(type(sample))"
   ]
  },
  {
   "cell_type": "code",
   "execution_count": null,
   "id": "30d9c0cc",
   "metadata": {},
   "outputs": [],
   "source": [
    "def summ(num1, num2):\n",
    "    result = num1 + num2\n",
    "    print('Addition is :', result)"
   ]
  },
  {
   "cell_type": "code",
   "execution_count": null,
   "id": "c3705dcf",
   "metadata": {},
   "outputs": [],
   "source": [
    "summ('100', '200')"
   ]
  },
  {
   "cell_type": "code",
   "execution_count": null,
   "id": "443c2289",
   "metadata": {},
   "outputs": [],
   "source": [
    "def display(arg1, arg2):\n",
    "    print(arg1**2)\n",
    "    print(len(arg2))    "
   ]
  },
  {
   "cell_type": "code",
   "execution_count": null,
   "id": "be8e3664",
   "metadata": {},
   "outputs": [],
   "source": [
    "display('Hello', 20)"
   ]
  },
  {
   "cell_type": "code",
   "execution_count": null,
   "id": "f2dff7c3",
   "metadata": {},
   "outputs": [],
   "source": [
    "display(20, 'Hello')"
   ]
  },
  {
   "cell_type": "code",
   "execution_count": null,
   "id": "cdf24d0c",
   "metadata": {},
   "outputs": [],
   "source": [
    "display()"
   ]
  },
  {
   "cell_type": "code",
   "execution_count": null,
   "id": "084bc33d",
   "metadata": {},
   "outputs": [],
   "source": [
    "x = display(20, 'Hello')\n",
    "print(x)"
   ]
  },
  {
   "cell_type": "code",
   "execution_count": null,
   "id": "82357b4c",
   "metadata": {},
   "outputs": [],
   "source": [
    "def addition(num1, num2):\n",
    "    result = num1 + num2\n",
    "    return result"
   ]
  },
  {
   "cell_type": "code",
   "execution_count": null,
   "id": "01e59a1c",
   "metadata": {},
   "outputs": [],
   "source": [
    "x = addition(100, 1000)\n",
    "print(x)"
   ]
  },
  {
   "cell_type": "code",
   "execution_count": null,
   "id": "0d4f2d3e",
   "metadata": {},
   "outputs": [],
   "source": [
    "def addition(num1, num2):\n",
    "    result = num1 + num2\n",
    "    return result, num1, num2"
   ]
  },
  {
   "cell_type": "code",
   "execution_count": null,
   "id": "5f1c5245",
   "metadata": {},
   "outputs": [],
   "source": [
    "x = addition(100, 1000)\n",
    "print(x)\n",
    "# print(y)\n",
    "# # print(z)"
   ]
  },
  {
   "cell_type": "code",
   "execution_count": null,
   "id": "8aa0b8c8",
   "metadata": {},
   "outputs": [],
   "source": [
    "def addition(num1=200, num2):\n",
    "    result = num1 + num2\n",
    "    print('Addition is: ', result)"
   ]
  },
  {
   "cell_type": "code",
   "execution_count": null,
   "id": "c5d1ed1d",
   "metadata": {},
   "outputs": [],
   "source": [
    "addition(10, 20)"
   ]
  },
  {
   "cell_type": "code",
   "execution_count": null,
   "id": "4383491c",
   "metadata": {},
   "outputs": [],
   "source": [
    "addition(10)"
   ]
  },
  {
   "cell_type": "code",
   "execution_count": null,
   "id": "7205a356",
   "metadata": {},
   "outputs": [],
   "source": [
    "addition()"
   ]
  },
  {
   "cell_type": "code",
   "execution_count": null,
   "id": "f3b2ebdb",
   "metadata": {},
   "outputs": [],
   "source": [
    "def display(empid, ename, sal):\n",
    "    print('Employee ID is: ', empid)\n",
    "    print('Employee Name is:', ename)\n",
    "    print('Employee salary is: ', sal)"
   ]
  },
  {
   "cell_type": "code",
   "execution_count": null,
   "id": "6b31cc1d",
   "metadata": {},
   "outputs": [],
   "source": [
    "display(1001, 'John', 25000)"
   ]
  },
  {
   "cell_type": "code",
   "execution_count": null,
   "id": "fcbaf3d0",
   "metadata": {},
   "outputs": [],
   "source": [
    "display(1001, 25000, 'John')"
   ]
  },
  {
   "cell_type": "code",
   "execution_count": null,
   "id": "e98876f9",
   "metadata": {},
   "outputs": [],
   "source": [
    "display(ename='John', sal=25000, empid=1001)"
   ]
  },
  {
   "cell_type": "code",
   "execution_count": null,
   "id": "6edb1e6f",
   "metadata": {},
   "outputs": [],
   "source": [
    "display(ename='John', sal=25000, 1001)"
   ]
  },
  {
   "cell_type": "code",
   "execution_count": null,
   "id": "032e7c76",
   "metadata": {},
   "outputs": [],
   "source": [
    "display(1001, ename='John', sal=25000)"
   ]
  },
  {
   "cell_type": "code",
   "execution_count": null,
   "id": "8835a38c",
   "metadata": {},
   "outputs": [],
   "source": [
    "display(1001, 'John', sal=25000)"
   ]
  },
  {
   "cell_type": "code",
   "execution_count": 65,
   "id": "9d115845",
   "metadata": {},
   "outputs": [],
   "source": [
    "def addition(*params):\n",
    "    print(params)\n",
    "    print(type(params))\n",
    "    print(len(params))"
   ]
  },
  {
   "cell_type": "code",
   "execution_count": 66,
   "id": "60b83a6b",
   "metadata": {},
   "outputs": [
    {
     "name": "stdout",
     "output_type": "stream",
     "text": [
      "(10, 20, 30)\n",
      "<class 'tuple'>\n",
      "3\n"
     ]
    }
   ],
   "source": [
    "addition(10, 20, 30)"
   ]
  },
  {
   "cell_type": "code",
   "execution_count": 67,
   "id": "95eaf7fc",
   "metadata": {},
   "outputs": [
    {
     "name": "stdout",
     "output_type": "stream",
     "text": [
      "(10,)\n",
      "<class 'tuple'>\n",
      "1\n"
     ]
    }
   ],
   "source": [
    "addition(10)"
   ]
  },
  {
   "cell_type": "code",
   "execution_count": 68,
   "id": "656116f2",
   "metadata": {},
   "outputs": [
    {
     "name": "stdout",
     "output_type": "stream",
     "text": [
      "(10, 20, 30, 40, 50)\n",
      "<class 'tuple'>\n",
      "5\n"
     ]
    }
   ],
   "source": [
    "addition(10, 20, 30, 40, 50)"
   ]
  },
  {
   "cell_type": "code",
   "execution_count": 69,
   "id": "c1586ca6",
   "metadata": {},
   "outputs": [
    {
     "name": "stdout",
     "output_type": "stream",
     "text": [
      "(10, 100, 10, 'abc', 100.25)\n",
      "<class 'tuple'>\n",
      "5\n"
     ]
    }
   ],
   "source": [
    "addition(10, 100, 10, 'abc', 100.25)"
   ]
  },
  {
   "cell_type": "code",
   "execution_count": 70,
   "id": "82e81f0b",
   "metadata": {},
   "outputs": [],
   "source": [
    "# variable number of positional arguments\n",
    "def addition(*params):\n",
    "    summ = 0   ##### summ = sum(params)\n",
    "    for val in params:\n",
    "        summ += val\n",
    "    print(\"Addition is: \", summ)"
   ]
  },
  {
   "cell_type": "code",
   "execution_count": 71,
   "id": "8f91ffec",
   "metadata": {},
   "outputs": [
    {
     "name": "stdout",
     "output_type": "stream",
     "text": [
      "Addition is:  60\n"
     ]
    }
   ],
   "source": [
    "addition(10, 20, 30)"
   ]
  },
  {
   "cell_type": "code",
   "execution_count": 73,
   "id": "c3625b43",
   "metadata": {},
   "outputs": [
    {
     "name": "stdout",
     "output_type": "stream",
     "text": [
      "Addition is:  150\n"
     ]
    }
   ],
   "source": [
    "addition(10, 20, 30, 40, 50)"
   ]
  },
  {
   "cell_type": "code",
   "execution_count": 74,
   "id": "1b01d3ad",
   "metadata": {},
   "outputs": [
    {
     "ename": "TypeError",
     "evalue": "unsupported operand type(s) for +=: 'int' and 'str'",
     "output_type": "error",
     "traceback": [
      "\u001b[1;31m---------------------------------------------------------------------------\u001b[0m",
      "\u001b[1;31mTypeError\u001b[0m                                 Traceback (most recent call last)",
      "\u001b[1;32m~\\AppData\\Local\\Temp\\ipykernel_3784\\36408401.py\u001b[0m in \u001b[0;36m<module>\u001b[1;34m\u001b[0m\n\u001b[1;32m----> 1\u001b[1;33m \u001b[0maddition\u001b[0m\u001b[1;33m(\u001b[0m\u001b[1;36m10\u001b[0m\u001b[1;33m,\u001b[0m \u001b[1;36m20\u001b[0m\u001b[1;33m,\u001b[0m \u001b[1;34m'abcd'\u001b[0m\u001b[1;33m)\u001b[0m\u001b[1;33m\u001b[0m\u001b[1;33m\u001b[0m\u001b[0m\n\u001b[0m",
      "\u001b[1;32m~\\AppData\\Local\\Temp\\ipykernel_3784\\2118254921.py\u001b[0m in \u001b[0;36maddition\u001b[1;34m(*params)\u001b[0m\n\u001b[0;32m      2\u001b[0m     \u001b[0msumm\u001b[0m \u001b[1;33m=\u001b[0m \u001b[1;36m0\u001b[0m\u001b[1;33m\u001b[0m\u001b[1;33m\u001b[0m\u001b[0m\n\u001b[0;32m      3\u001b[0m     \u001b[1;32mfor\u001b[0m \u001b[0mval\u001b[0m \u001b[1;32min\u001b[0m \u001b[0mparams\u001b[0m\u001b[1;33m:\u001b[0m\u001b[1;33m\u001b[0m\u001b[1;33m\u001b[0m\u001b[0m\n\u001b[1;32m----> 4\u001b[1;33m         \u001b[0msumm\u001b[0m \u001b[1;33m+=\u001b[0m \u001b[0mval\u001b[0m\u001b[1;33m\u001b[0m\u001b[1;33m\u001b[0m\u001b[0m\n\u001b[0m\u001b[0;32m      5\u001b[0m     \u001b[0mprint\u001b[0m\u001b[1;33m(\u001b[0m\u001b[1;34m\"Addition is: \"\u001b[0m\u001b[1;33m,\u001b[0m \u001b[0msumm\u001b[0m\u001b[1;33m)\u001b[0m\u001b[1;33m\u001b[0m\u001b[1;33m\u001b[0m\u001b[0m\n",
      "\u001b[1;31mTypeError\u001b[0m: unsupported operand type(s) for +=: 'int' and 'str'"
     ]
    }
   ],
   "source": [
    "addition(10, 20, 'abcd')"
   ]
  },
  {
   "cell_type": "code",
   "execution_count": 76,
   "id": "996232cb",
   "metadata": {},
   "outputs": [
    {
     "ename": "TypeError",
     "evalue": "addition() got an unexpected keyword argument 'num2'",
     "output_type": "error",
     "traceback": [
      "\u001b[1;31m---------------------------------------------------------------------------\u001b[0m",
      "\u001b[1;31mTypeError\u001b[0m                                 Traceback (most recent call last)",
      "\u001b[1;32m~\\AppData\\Local\\Temp\\ipykernel_3784\\2469004539.py\u001b[0m in \u001b[0;36m<module>\u001b[1;34m\u001b[0m\n\u001b[1;32m----> 1\u001b[1;33m \u001b[0maddition\u001b[0m\u001b[1;33m(\u001b[0m \u001b[0mnum2\u001b[0m\u001b[1;33m=\u001b[0m\u001b[1;36m20\u001b[0m\u001b[1;33m,\u001b[0m \u001b[0mnum3\u001b[0m\u001b[1;33m=\u001b[0m\u001b[1;36m30\u001b[0m\u001b[1;33m)\u001b[0m\u001b[1;33m\u001b[0m\u001b[1;33m\u001b[0m\u001b[0m\n\u001b[0m",
      "\u001b[1;31mTypeError\u001b[0m: addition() got an unexpected keyword argument 'num2'"
     ]
    }
   ],
   "source": [
    "addition(num1=10, num2=20, num3=30)"
   ]
  },
  {
   "cell_type": "code",
   "execution_count": 77,
   "id": "243961a9",
   "metadata": {},
   "outputs": [],
   "source": [
    "# variable number of keyword arguments\n",
    "def emp_info(**data):\n",
    "    print(data)\n",
    "    print(type(data))\n",
    "    print(len(data))"
   ]
  },
  {
   "cell_type": "code",
   "execution_count": 78,
   "id": "73f7b4e5",
   "metadata": {},
   "outputs": [
    {
     "name": "stdout",
     "output_type": "stream",
     "text": [
      "{'ename': 'Bob', 'empid': 101, 'sal': 10000, 'city': 'HYD'}\n",
      "<class 'dict'>\n",
      "4\n"
     ]
    }
   ],
   "source": [
    "emp_info(ename='Bob', empid=101, sal=10000, city='HYD')"
   ]
  },
  {
   "cell_type": "code",
   "execution_count": 82,
   "id": "74d088ce",
   "metadata": {},
   "outputs": [
    {
     "name": "stdout",
     "output_type": "stream",
     "text": [
      "{'ename1': 'Bob', 'empid': 10000, 'sal': [10000, 20000], 'city': 'HYD'}\n",
      "<class 'dict'>\n",
      "4\n"
     ]
    }
   ],
   "source": [
    "emp_info(ename1='Bob', empid=10000, sal=[10000, 20000], city='HYD')"
   ]
  },
  {
   "cell_type": "code",
   "execution_count": 85,
   "id": "e3def758",
   "metadata": {},
   "outputs": [],
   "source": [
    "# variable number of keyword arguments\n",
    "def emp_info(**data):\n",
    "    print(data)\n",
    "    print(data.keys())\n",
    "    print(data.values())\n",
    "    print(data.items())"
   ]
  },
  {
   "cell_type": "code",
   "execution_count": 88,
   "id": "d0e47386",
   "metadata": {},
   "outputs": [
    {
     "name": "stdout",
     "output_type": "stream",
     "text": [
      "('a1', 'abc')\n",
      "('b1', 'xyz')\n"
     ]
    }
   ],
   "source": [
    "emp_info(a1 = 'abc', b1 = 'xyz')"
   ]
  },
  {
   "cell_type": "code",
   "execution_count": 95,
   "id": "91c9b125",
   "metadata": {},
   "outputs": [],
   "source": [
    "# variable number of keyword arguments\n",
    "def emp_info(**data):\n",
    "    for ky, val in data.items():\n",
    "        print('{} of the employee is: {}'.format(ky, val))"
   ]
  },
  {
   "cell_type": "code",
   "execution_count": 97,
   "id": "89f3fa2a",
   "metadata": {},
   "outputs": [
    {
     "ename": "TypeError",
     "evalue": "emp_info() takes 0 positional arguments but 3 were given",
     "output_type": "error",
     "traceback": [
      "\u001b[1;31m---------------------------------------------------------------------------\u001b[0m",
      "\u001b[1;31mTypeError\u001b[0m                                 Traceback (most recent call last)",
      "\u001b[1;32m~\\AppData\\Local\\Temp\\ipykernel_3784\\1051403295.py\u001b[0m in \u001b[0;36m<module>\u001b[1;34m\u001b[0m\n\u001b[1;32m----> 1\u001b[1;33m \u001b[0memp_info\u001b[0m\u001b[1;33m(\u001b[0m\u001b[1;36m10\u001b[0m\u001b[1;33m,\u001b[0m \u001b[1;36m20\u001b[0m\u001b[1;33m,\u001b[0m \u001b[1;36m30\u001b[0m\u001b[1;33m,\u001b[0m \u001b[0mEname\u001b[0m\u001b[1;33m=\u001b[0m\u001b[1;34m'Bob'\u001b[0m\u001b[1;33m,\u001b[0m \u001b[0mEmpID\u001b[0m\u001b[1;33m=\u001b[0m\u001b[1;36m1001\u001b[0m\u001b[1;33m,\u001b[0m \u001b[0mSal\u001b[0m\u001b[1;33m=\u001b[0m\u001b[1;36m10000\u001b[0m\u001b[1;33m,\u001b[0m \u001b[0mCity\u001b[0m\u001b[1;33m=\u001b[0m\u001b[1;34m'HYD'\u001b[0m\u001b[1;33m)\u001b[0m\u001b[1;33m\u001b[0m\u001b[1;33m\u001b[0m\u001b[0m\n\u001b[0m",
      "\u001b[1;31mTypeError\u001b[0m: emp_info() takes 0 positional arguments but 3 were given"
     ]
    }
   ],
   "source": [
    "emp_info(10, 20, 30, Ename='Bob', EmpID=1001, Sal=10000, City='HYD')"
   ]
  },
  {
   "cell_type": "code",
   "execution_count": 91,
   "id": "118ec121",
   "metadata": {},
   "outputs": [
    {
     "name": "stdout",
     "output_type": "stream",
     "text": [
      "10\n",
      "20\n"
     ]
    }
   ],
   "source": [
    "x, y = (10, 20)\n",
    "print(x)\n",
    "print(y)"
   ]
  },
  {
   "cell_type": "code",
   "execution_count": 103,
   "id": "7a12e72f",
   "metadata": {},
   "outputs": [],
   "source": [
    "# variable number of keyword arguments\n",
    "def emp_info(*rewards, **data):\n",
    "    for ky, val in data.items():\n",
    "        print('{} of the employee is: {}'.format(ky, val))\n",
    "    print()\n",
    "    print('Employee has got {} total rewards..!!'.format(sum(rewards)))"
   ]
  },
  {
   "cell_type": "code",
   "execution_count": 104,
   "id": "ce417d9a",
   "metadata": {},
   "outputs": [
    {
     "name": "stdout",
     "output_type": "stream",
     "text": [
      "Ename of the employee is: Bob\n",
      "EmpID of the employee is: 1001\n",
      "Sal of the employee is: 10000\n",
      "City of the employee is: HYD\n",
      "\n",
      "Employee has got 60 total rewards..!!\n"
     ]
    }
   ],
   "source": [
    "emp_info(10, 20, 30, Ename='Bob', EmpID=1001, Sal=10000, City='HYD')"
   ]
  },
  {
   "cell_type": "code",
   "execution_count": null,
   "id": "6a68654e",
   "metadata": {},
   "outputs": [],
   "source": []
  }
 ],
 "metadata": {
  "kernelspec": {
   "display_name": "Python 3 (ipykernel)",
   "language": "python",
   "name": "python3"
  },
  "language_info": {
   "codemirror_mode": {
    "name": "ipython",
    "version": 3
   },
   "file_extension": ".py",
   "mimetype": "text/x-python",
   "name": "python",
   "nbconvert_exporter": "python",
   "pygments_lexer": "ipython3",
   "version": "3.9.13"
  }
 },
 "nbformat": 4,
 "nbformat_minor": 5
}
