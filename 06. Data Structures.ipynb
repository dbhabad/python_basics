{
 "cells": [
  {
   "cell_type": "markdown",
   "id": "8ee57ff0",
   "metadata": {},
   "source": [
    "# List"
   ]
  },
  {
   "cell_type": "code",
   "execution_count": null,
   "id": "41abf6ed",
   "metadata": {},
   "outputs": [],
   "source": [
    "l1 = []"
   ]
  },
  {
   "cell_type": "code",
   "execution_count": null,
   "id": "8d0c8063",
   "metadata": {},
   "outputs": [],
   "source": [
    "l2 = list()"
   ]
  },
  {
   "cell_type": "code",
   "execution_count": null,
   "id": "be7c1d32",
   "metadata": {},
   "outputs": [],
   "source": [
    "type(l1)"
   ]
  },
  {
   "cell_type": "code",
   "execution_count": null,
   "id": "2a863222",
   "metadata": {},
   "outputs": [],
   "source": [
    "type(l2)"
   ]
  },
  {
   "cell_type": "code",
   "execution_count": null,
   "id": "f249b05b",
   "metadata": {},
   "outputs": [],
   "source": [
    "l1 = [1, 2, 3, 4, 5]\n",
    "print(l1)"
   ]
  },
  {
   "cell_type": "code",
   "execution_count": null,
   "id": "162ff3e8",
   "metadata": {},
   "outputs": [],
   "source": [
    "l1 = [1, 2, 3, 10.5, True, 'ABC', False]\n",
    "print(l1)"
   ]
  },
  {
   "cell_type": "code",
   "execution_count": null,
   "id": "15c7fac4",
   "metadata": {},
   "outputs": [],
   "source": [
    "x = l1.append(100)\n",
    "print(l1)\n",
    "print(x)"
   ]
  },
  {
   "cell_type": "code",
   "execution_count": null,
   "id": "daec987e",
   "metadata": {},
   "outputs": [],
   "source": [
    "l1.insert(0, 1000)\n",
    "print(l1)"
   ]
  },
  {
   "cell_type": "code",
   "execution_count": null,
   "id": "bac86e3a",
   "metadata": {},
   "outputs": [],
   "source": [
    "l1.insert(3, 'XYZ')\n",
    "print(l1)"
   ]
  },
  {
   "cell_type": "code",
   "execution_count": null,
   "id": "39b0696b",
   "metadata": {},
   "outputs": [],
   "source": [
    "l1 = [1, 2, 3]\n",
    "l2 = [10, 20]\n",
    "l1.append(l2)\n",
    "print(l1)\n",
    "print(l2)"
   ]
  },
  {
   "cell_type": "code",
   "execution_count": null,
   "id": "2872ffce",
   "metadata": {},
   "outputs": [],
   "source": [
    "len(l1)"
   ]
  },
  {
   "cell_type": "code",
   "execution_count": null,
   "id": "a1b9c69d",
   "metadata": {},
   "outputs": [],
   "source": [
    "l1 = [1, 2, 3]\n",
    "l2 = [10, 20]\n",
    "l1.extend(l2)\n",
    "print(l1)\n",
    "print(l2)"
   ]
  },
  {
   "cell_type": "code",
   "execution_count": null,
   "id": "5ab43644",
   "metadata": {},
   "outputs": [],
   "source": [
    "l1.extend(100)"
   ]
  },
  {
   "cell_type": "code",
   "execution_count": null,
   "id": "3dc640ba",
   "metadata": {},
   "outputs": [],
   "source": [
    "l1.extend([100])\n",
    "l1"
   ]
  },
  {
   "cell_type": "code",
   "execution_count": null,
   "id": "7c31f408",
   "metadata": {},
   "outputs": [],
   "source": [
    "l1.insert(10, 1000)"
   ]
  },
  {
   "cell_type": "code",
   "execution_count": null,
   "id": "1f778862",
   "metadata": {},
   "outputs": [],
   "source": [
    "l1"
   ]
  },
  {
   "cell_type": "code",
   "execution_count": null,
   "id": "2db53695",
   "metadata": {},
   "outputs": [],
   "source": [
    "x = l1.pop()\n",
    "print(x)\n",
    "print(l1)"
   ]
  },
  {
   "cell_type": "code",
   "execution_count": null,
   "id": "a9258ef7",
   "metadata": {},
   "outputs": [],
   "source": [
    "x = l1.pop(2)\n",
    "print(x)\n",
    "print(l1)"
   ]
  },
  {
   "cell_type": "code",
   "execution_count": null,
   "id": "e74076df",
   "metadata": {},
   "outputs": [],
   "source": [
    "x = l1.pop(10)\n",
    "print(x)\n",
    "print(l1)"
   ]
  },
  {
   "cell_type": "code",
   "execution_count": null,
   "id": "a926172c",
   "metadata": {},
   "outputs": [],
   "source": [
    "print(l1)\n",
    "x = l1.remove(20)\n",
    "print(x)\n",
    "print(l1)"
   ]
  },
  {
   "cell_type": "code",
   "execution_count": null,
   "id": "c094d94a",
   "metadata": {},
   "outputs": [],
   "source": [
    "print(l1)\n",
    "x = l1.remove(20)\n",
    "print(x)\n",
    "print(l1)"
   ]
  },
  {
   "cell_type": "code",
   "execution_count": null,
   "id": "9b4fc314",
   "metadata": {},
   "outputs": [],
   "source": [
    "print(l1)\n",
    "x = l1.clear()\n",
    "print(x)\n",
    "print(l1)"
   ]
  },
  {
   "cell_type": "code",
   "execution_count": null,
   "id": "5db68e14",
   "metadata": {},
   "outputs": [],
   "source": [
    "l1 = [1, 2, 3, 4, 5]\n",
    "x = l1.index(5)\n",
    "print(x)"
   ]
  },
  {
   "cell_type": "code",
   "execution_count": null,
   "id": "890f93af",
   "metadata": {},
   "outputs": [],
   "source": [
    "l1 = [1, 1, 1, 2, 2, 3, 4, 5]\n",
    "x = l1.count(3)\n",
    "print(x)"
   ]
  },
  {
   "cell_type": "code",
   "execution_count": null,
   "id": "1469499a",
   "metadata": {},
   "outputs": [],
   "source": [
    "l1 = [1, 12, 10, 2, 21, 30, 4, 5]\n",
    "x = l1.reverse()\n",
    "print(x)\n",
    "print(l1)"
   ]
  },
  {
   "cell_type": "code",
   "execution_count": null,
   "id": "4f1b43bc",
   "metadata": {},
   "outputs": [],
   "source": [
    "l1 = [1, 12, 10, 2, 21, 30, 4, 5]\n",
    "x = list(reversed(l1))\n",
    "print(x)\n",
    "print(l1)"
   ]
  },
  {
   "cell_type": "code",
   "execution_count": null,
   "id": "547fe710",
   "metadata": {},
   "outputs": [],
   "source": [
    "l1 = [1, 12, 10, 2, 21, 30, 4, 5]\n",
    "x = l1.sort()\n",
    "print(x)\n",
    "print(l1)"
   ]
  },
  {
   "cell_type": "code",
   "execution_count": null,
   "id": "e3bf9edf",
   "metadata": {},
   "outputs": [],
   "source": [
    "l1 = [1, 12, 10, 2, 21, 30, 4, 5]\n",
    "x = l1.sort(reverse = True)\n",
    "print(x)\n",
    "print(l1)"
   ]
  },
  {
   "cell_type": "code",
   "execution_count": null,
   "id": "d6030599",
   "metadata": {},
   "outputs": [],
   "source": [
    "l1 = [1, 12, 10, 2, 21, 30, 4, 5]\n",
    "x = sorted(l1)\n",
    "print(x)\n",
    "print(l1)"
   ]
  },
  {
   "cell_type": "code",
   "execution_count": null,
   "id": "95bb44ce",
   "metadata": {},
   "outputs": [],
   "source": [
    "l1 = [1, 12, 10, 2, 21, 30, 4, 5]\n",
    "x = sorted(l1, reverse=True)\n",
    "print(x)\n",
    "print(l1)"
   ]
  },
  {
   "cell_type": "code",
   "execution_count": null,
   "id": "478b4a1d",
   "metadata": {},
   "outputs": [],
   "source": [
    "len(l1)"
   ]
  },
  {
   "cell_type": "code",
   "execution_count": null,
   "id": "7330617b",
   "metadata": {},
   "outputs": [],
   "source": [
    "min(l1)"
   ]
  },
  {
   "cell_type": "code",
   "execution_count": null,
   "id": "ef27251a",
   "metadata": {},
   "outputs": [],
   "source": [
    "max(l1)"
   ]
  },
  {
   "cell_type": "code",
   "execution_count": null,
   "id": "13ff08a6",
   "metadata": {},
   "outputs": [],
   "source": [
    "sum(l1)"
   ]
  },
  {
   "cell_type": "code",
   "execution_count": null,
   "id": "cf7c0f66",
   "metadata": {},
   "outputs": [],
   "source": [
    "print(l1)\n",
    "del l1[0]\n",
    "print(l1)"
   ]
  },
  {
   "cell_type": "code",
   "execution_count": null,
   "id": "2d2ce2bf",
   "metadata": {},
   "outputs": [],
   "source": [
    "del l1\n"
   ]
  },
  {
   "cell_type": "code",
   "execution_count": null,
   "id": "8d7729b1",
   "metadata": {},
   "outputs": [],
   "source": [
    "print(l1)"
   ]
  },
  {
   "cell_type": "code",
   "execution_count": null,
   "id": "22eb70c1",
   "metadata": {},
   "outputs": [],
   "source": [
    "l1 = [1,2,3]\n",
    "l2 = l1\n",
    "l3 = l1.copy()"
   ]
  },
  {
   "cell_type": "code",
   "execution_count": null,
   "id": "77bb7428",
   "metadata": {},
   "outputs": [],
   "source": [
    "l2"
   ]
  },
  {
   "cell_type": "code",
   "execution_count": null,
   "id": "45faa2aa",
   "metadata": {},
   "outputs": [],
   "source": [
    "l3"
   ]
  },
  {
   "cell_type": "code",
   "execution_count": null,
   "id": "9b1be628",
   "metadata": {},
   "outputs": [],
   "source": [
    "l1 is l2"
   ]
  },
  {
   "cell_type": "code",
   "execution_count": null,
   "id": "a1ed9008",
   "metadata": {},
   "outputs": [],
   "source": [
    "l1 is l3"
   ]
  },
  {
   "cell_type": "markdown",
   "id": "2856a80f",
   "metadata": {},
   "source": [
    "### Slicing and Indexing of a list"
   ]
  },
  {
   "cell_type": "code",
   "execution_count": null,
   "id": "f3e77469",
   "metadata": {},
   "outputs": [],
   "source": [
    "l1 = [10, 20, 30, 40, 50, 60, 70, 80, 90]\n",
    "print(l1[0])"
   ]
  },
  {
   "cell_type": "code",
   "execution_count": null,
   "id": "36f39574",
   "metadata": {},
   "outputs": [],
   "source": [
    "l1 = [10, 20, 30, 40, 50, 60, 70, 80, 90]\n",
    "print(l1[5])"
   ]
  },
  {
   "cell_type": "code",
   "execution_count": null,
   "id": "3c0f22d3",
   "metadata": {},
   "outputs": [],
   "source": [
    "l1 = [10, 20, 30, 40, 50, 60, 70, 80, 90]\n",
    "print(l1[-1])"
   ]
  },
  {
   "cell_type": "code",
   "execution_count": null,
   "id": "35cfc02b",
   "metadata": {},
   "outputs": [],
   "source": [
    "l1 = [10, 20, 30, 40, 50, 60, 70, 80, 90]\n",
    "print(l1[-3])"
   ]
  },
  {
   "cell_type": "code",
   "execution_count": null,
   "id": "e7722b9c",
   "metadata": {},
   "outputs": [],
   "source": [
    "l1 = [10, 20, 30, 40, 50, 60, 70, 80, 90]\n",
    "print(l1[0:4])"
   ]
  },
  {
   "cell_type": "code",
   "execution_count": null,
   "id": "1e07806c",
   "metadata": {},
   "outputs": [],
   "source": [
    "l1 = [10, 20, 30, 40, 50, 60, 70, 80, 90]\n",
    "print(l1[:2])"
   ]
  },
  {
   "cell_type": "code",
   "execution_count": null,
   "id": "7e136d70",
   "metadata": {},
   "outputs": [],
   "source": [
    "l1 = [10, 20, 30, 40, 50, 60, 70, 80, 90]\n",
    "print(l1[2:4])"
   ]
  },
  {
   "cell_type": "code",
   "execution_count": null,
   "id": "8e17c551",
   "metadata": {},
   "outputs": [],
   "source": [
    "l1 = [10, 20, 30, 40, 50, 60, 70, 80, 90]\n",
    "print(l1[0:10:2])"
   ]
  },
  {
   "cell_type": "code",
   "execution_count": null,
   "id": "315e8aa5",
   "metadata": {},
   "outputs": [],
   "source": [
    "l1 = [10, 20, 30, 40, 50, 60, 70, 80, 90]\n",
    "print(l1[1:10:3])"
   ]
  },
  {
   "cell_type": "code",
   "execution_count": null,
   "id": "6bdc7522",
   "metadata": {},
   "outputs": [],
   "source": [
    "l1 = [10, 20, 30, 40, 50, 60, 70, 80, 90]\n",
    "print(l1[::-1])"
   ]
  },
  {
   "cell_type": "code",
   "execution_count": null,
   "id": "14712fdc",
   "metadata": {},
   "outputs": [],
   "source": [
    "l1 = [10, 20, 30, 40, 50, 60, 70, 80, 90]\n",
    "print(l1[::-2])"
   ]
  },
  {
   "cell_type": "code",
   "execution_count": null,
   "id": "a0d4fbf3",
   "metadata": {},
   "outputs": [],
   "source": [
    "l1 = [10, 20, 30, 40, 50, 60, 70, 80, 90]\n",
    "print(l1[-1:-5:-1])"
   ]
  },
  {
   "cell_type": "code",
   "execution_count": null,
   "id": "a1fd529e",
   "metadata": {},
   "outputs": [],
   "source": [
    "l1 = [10, 20, 30, 40, 50, 60, 70, 80, 90]\n",
    "l1[-2:-5:-1]"
   ]
  },
  {
   "cell_type": "code",
   "execution_count": null,
   "id": "9c076183",
   "metadata": {},
   "outputs": [],
   "source": [
    "l1[5:7]"
   ]
  },
  {
   "cell_type": "code",
   "execution_count": null,
   "id": "38339e3e",
   "metadata": {},
   "outputs": [],
   "source": [
    "l1[-2:2:-2]"
   ]
  },
  {
   "cell_type": "code",
   "execution_count": null,
   "id": "f4e75134",
   "metadata": {},
   "outputs": [],
   "source": [
    "l1 = [[10, 20, 30], [40, 50, 60, 70, 80, 90, [100, 1000], ['abc', True, False]]]\n",
    "print(l1)"
   ]
  },
  {
   "cell_type": "code",
   "execution_count": null,
   "id": "4fbd11b5",
   "metadata": {},
   "outputs": [],
   "source": [
    "l1 = [[10, 20, 30], [40, 50, 60, 70, 80, 90, [100, 1000], ['abc', True, False]]]\n",
    "l1[0][0]"
   ]
  },
  {
   "cell_type": "code",
   "execution_count": null,
   "id": "7613657b",
   "metadata": {},
   "outputs": [],
   "source": [
    "len(l1)"
   ]
  },
  {
   "cell_type": "code",
   "execution_count": null,
   "id": "7033fcea",
   "metadata": {},
   "outputs": [],
   "source": [
    "l1 = [[10, 20, 30], [40, 50, 60, 70, 80, 90, [100, 1000], ['abc', True, False]]]\n",
    "l1[0][1:3]"
   ]
  },
  {
   "cell_type": "code",
   "execution_count": null,
   "id": "a4e616f0",
   "metadata": {},
   "outputs": [],
   "source": [
    "l1[1][6][0]"
   ]
  },
  {
   "cell_type": "code",
   "execution_count": null,
   "id": "36dd9849",
   "metadata": {},
   "outputs": [],
   "source": [
    "l1[1][-2][0]"
   ]
  },
  {
   "cell_type": "code",
   "execution_count": null,
   "id": "a1805d93",
   "metadata": {},
   "outputs": [],
   "source": [
    "l1[-1][6][0]"
   ]
  },
  {
   "cell_type": "code",
   "execution_count": null,
   "id": "9624fe6a",
   "metadata": {},
   "outputs": [],
   "source": [
    "l1 = [[10, 20, 30], [40, 50, 60, 70, 80, 90, [100, 1000], ['abc', True, False]]]\n",
    "l1[1][-1][0][0]"
   ]
  },
  {
   "cell_type": "code",
   "execution_count": null,
   "id": "3ed6bc39",
   "metadata": {},
   "outputs": [],
   "source": [
    "l1[-1][-1][1]"
   ]
  },
  {
   "cell_type": "code",
   "execution_count": null,
   "id": "6474fa1f",
   "metadata": {},
   "outputs": [],
   "source": [
    "l1[1][-1][1]"
   ]
  },
  {
   "cell_type": "markdown",
   "id": "5f6becd9",
   "metadata": {},
   "source": [
    "### List Comprehension"
   ]
  },
  {
   "cell_type": "code",
   "execution_count": null,
   "id": "985a8097",
   "metadata": {},
   "outputs": [],
   "source": [
    "l1 = [1, 2, 3, 4, 5]\n",
    "l2 = []\n",
    "for val in l1:\n",
    "    l2.append(val**2)\n",
    "print(l2)"
   ]
  },
  {
   "cell_type": "code",
   "execution_count": null,
   "id": "7f1019f8",
   "metadata": {},
   "outputs": [],
   "source": [
    "l3 = [val**2 for val in l1]  ## syntax: [expr for item in iterable_obj]\n",
    "print(l3)"
   ]
  },
  {
   "cell_type": "code",
   "execution_count": null,
   "id": "4b0bbcbf",
   "metadata": {},
   "outputs": [],
   "source": [
    "l4 = [val+10 for val in l1]\n",
    "print(l4)"
   ]
  },
  {
   "cell_type": "code",
   "execution_count": null,
   "id": "a801c081",
   "metadata": {},
   "outputs": [],
   "source": [
    "l1 = [1, 2, 3, 4, 5]\n",
    "l2 = [val for val in l1 if val%2 != 0]\n",
    "print(l2)"
   ]
  },
  {
   "cell_type": "code",
   "execution_count": null,
   "id": "8c6171c7",
   "metadata": {},
   "outputs": [],
   "source": [
    "# get the cities from below list having 6 or more chars in their name\n",
    "l1 = ['Pune', 'Mumbai', 'Delhi', 'Hyderabad', 'Chennai', 'Banglore']\n",
    "l2 = [city for city in l1 if len(city) >= 6]\n",
    "print(l2)"
   ]
  },
  {
   "cell_type": "code",
   "execution_count": null,
   "id": "137c5238",
   "metadata": {},
   "outputs": [],
   "source": [
    "# get the cities from below list staring with 'A', 'B', or 'C'\n",
    "l1 = ['Pune', 'Mumbai', 'Delhi', 'Hyderabad', 'Chennai', 'Banglore']\n",
    "l2 = [city for city in l1 if city[0] == 'A' or city[0] == 'B' or city[0] == 'C']\n",
    "print(l2)"
   ]
  },
  {
   "cell_type": "code",
   "execution_count": null,
   "id": "606a847b",
   "metadata": {},
   "outputs": [],
   "source": [
    "# get the cities from below list staring with 'A', 'B', or 'C'\n",
    "l1 = ['Pune', 'Mumbai', 'Delhi', 'Hyderabad', 'Chennai', 'Banglore']\n",
    "l2 = [city for city in l1 if city[0] in ['A', 'B', 'C']]\n",
    "print(l2)"
   ]
  },
  {
   "cell_type": "code",
   "execution_count": null,
   "id": "bad7cf83",
   "metadata": {},
   "outputs": [],
   "source": [
    "# get the cities from below list staring with 'A', 'B', or 'C'\n",
    "l1 = ['Pune', 'Mumbai', 'Delhi', 'Hyderabad', 'Chennai', 'Banglore']\n",
    "l2 = [city for city in l1 if city[0] in ['A', 'B', 'C']]\n",
    "print(l2)"
   ]
  },
  {
   "cell_type": "code",
   "execution_count": null,
   "id": "ea14d4db",
   "metadata": {},
   "outputs": [],
   "source": [
    "# get the numbers greater than 50\n",
    "l1 = [10, 234, 45, 19, 2, 21, 89]\n"
   ]
  },
  {
   "cell_type": "code",
   "execution_count": null,
   "id": "6e9e5bc1",
   "metadata": {},
   "outputs": [],
   "source": [
    "# add two lists elementwise and prepare new list\n",
    "\n",
    "l1 = [1, 2, 3, 4, 5]\n",
    "l2 = [10, 20, 30, 40, 50]\n",
    "l3 = [l1[i] + l2[i] for i in range len(l1)]\n",
    "print(l3)\n",
    "# Expected output: list l3 as [11, 22, 33, 44, 55]"
   ]
  },
  {
   "cell_type": "code",
   "execution_count": null,
   "id": "79751a18",
   "metadata": {},
   "outputs": [],
   "source": [
    "# perform elementwise comparison and get the greater value in new list\n",
    "\n",
    "l1 = [10, 21, 35, 42, 59]\n",
    "l2 = [12, 20, 31, 46, 52]\n",
    "l3 = [max(l1[i], l2[i]) for i in range(len(l1))]\n",
    "l4 = [l1[i] if l1[i] > l2[i] else l2[i] for i in range(len(l1))]                                                   \n",
    "print(l3)\n",
    "print(l4)\n",
    "# Expected output: list l3 as [12, 21, 35, 46, 59]"
   ]
  },
  {
   "cell_type": "code",
   "execution_count": null,
   "id": "37646585",
   "metadata": {},
   "outputs": [],
   "source": [
    "[0]*2"
   ]
  },
  {
   "cell_type": "code",
   "execution_count": null,
   "id": "54759af2",
   "metadata": {},
   "outputs": [],
   "source": [
    "[0]*5"
   ]
  },
  {
   "cell_type": "markdown",
   "id": "0d525ce0",
   "metadata": {},
   "source": [
    "# Tuple"
   ]
  },
  {
   "cell_type": "code",
   "execution_count": null,
   "id": "93c8eddf",
   "metadata": {},
   "outputs": [],
   "source": [
    "t1 = ()\n",
    "print(type(t1))"
   ]
  },
  {
   "cell_type": "code",
   "execution_count": null,
   "id": "77cbe952",
   "metadata": {},
   "outputs": [],
   "source": [
    "t2 = tuple()\n",
    "print(type(t2))"
   ]
  },
  {
   "cell_type": "code",
   "execution_count": null,
   "id": "992fc9bc",
   "metadata": {},
   "outputs": [],
   "source": [
    "t1 = (1, 2, 3, 4, 5)\n",
    "print(t1)\n",
    "print(type(t1))"
   ]
  },
  {
   "cell_type": "code",
   "execution_count": null,
   "id": "d584fa36",
   "metadata": {},
   "outputs": [],
   "source": [
    "for item in t1:\n",
    "    print(item)"
   ]
  },
  {
   "cell_type": "code",
   "execution_count": null,
   "id": "3ce71b6a",
   "metadata": {},
   "outputs": [],
   "source": [
    "t1 = (1,)\n",
    "print(type(t1))"
   ]
  },
  {
   "cell_type": "code",
   "execution_count": null,
   "id": "3f63b10c",
   "metadata": {},
   "outputs": [],
   "source": [
    "t1.append(2)"
   ]
  },
  {
   "cell_type": "code",
   "execution_count": null,
   "id": "a0d0f814",
   "metadata": {},
   "outputs": [],
   "source": [
    "t1 = (1, 2, 3)\n",
    "t1[0]"
   ]
  },
  {
   "cell_type": "code",
   "execution_count": null,
   "id": "758684af",
   "metadata": {},
   "outputs": [],
   "source": [
    "t1[0] = 100"
   ]
  },
  {
   "cell_type": "code",
   "execution_count": null,
   "id": "f5634bf9",
   "metadata": {},
   "outputs": [],
   "source": [
    "del t1[0]"
   ]
  },
  {
   "cell_type": "code",
   "execution_count": null,
   "id": "1aa22d71",
   "metadata": {},
   "outputs": [],
   "source": [
    "del t1"
   ]
  },
  {
   "cell_type": "code",
   "execution_count": null,
   "id": "1af3e97b",
   "metadata": {},
   "outputs": [],
   "source": [
    "t1"
   ]
  },
  {
   "cell_type": "code",
   "execution_count": 119,
   "id": "4b136bb0",
   "metadata": {},
   "outputs": [
    {
     "name": "stdout",
     "output_type": "stream",
     "text": [
      "(1, 2, 3, 4, 5)\n"
     ]
    }
   ],
   "source": [
    "t1 = (1, 2, 3)\n",
    "t2 = (4, 5)\n",
    "t3 = t1 + t2\n",
    "print(t3)"
   ]
  },
  {
   "cell_type": "code",
   "execution_count": 120,
   "id": "3b426e6c",
   "metadata": {},
   "outputs": [
    {
     "name": "stdout",
     "output_type": "stream",
     "text": [
      "[1, 2, 3]\n",
      "<class 'list'>\n"
     ]
    }
   ],
   "source": [
    "l1 = list(t1)\n",
    "print(l1)\n",
    "print(type(l1))"
   ]
  },
  {
   "cell_type": "code",
   "execution_count": 122,
   "id": "acfd3a47",
   "metadata": {},
   "outputs": [
    {
     "name": "stdout",
     "output_type": "stream",
     "text": [
      "(1, 2, 3)\n",
      "<class 'tuple'>\n"
     ]
    }
   ],
   "source": [
    "t3 = tuple(l1)\n",
    "print(t3)\n",
    "print(type(t3))"
   ]
  },
  {
   "cell_type": "code",
   "execution_count": 123,
   "id": "2d0e61c7",
   "metadata": {},
   "outputs": [
    {
     "data": {
      "text/plain": [
       "3"
      ]
     },
     "execution_count": 123,
     "metadata": {},
     "output_type": "execute_result"
    }
   ],
   "source": [
    "len(t3)"
   ]
  },
  {
   "cell_type": "code",
   "execution_count": 124,
   "id": "8547bc62",
   "metadata": {},
   "outputs": [
    {
     "data": {
      "text/plain": [
       "1"
      ]
     },
     "execution_count": 124,
     "metadata": {},
     "output_type": "execute_result"
    }
   ],
   "source": [
    "t3.count(1)"
   ]
  },
  {
   "cell_type": "code",
   "execution_count": 125,
   "id": "8dcf1755",
   "metadata": {},
   "outputs": [
    {
     "data": {
      "text/plain": [
       "1"
      ]
     },
     "execution_count": 125,
     "metadata": {},
     "output_type": "execute_result"
    }
   ],
   "source": [
    "min(t3)"
   ]
  },
  {
   "cell_type": "code",
   "execution_count": 126,
   "id": "4a397a93",
   "metadata": {},
   "outputs": [
    {
     "data": {
      "text/plain": [
       "3"
      ]
     },
     "execution_count": 126,
     "metadata": {},
     "output_type": "execute_result"
    }
   ],
   "source": [
    "max(t3)"
   ]
  },
  {
   "cell_type": "code",
   "execution_count": 127,
   "id": "977cf4e5",
   "metadata": {},
   "outputs": [
    {
     "data": {
      "text/plain": [
       "6"
      ]
     },
     "execution_count": 127,
     "metadata": {},
     "output_type": "execute_result"
    }
   ],
   "source": [
    "sum(t3)"
   ]
  },
  {
   "cell_type": "code",
   "execution_count": 128,
   "id": "cd76c1b6",
   "metadata": {},
   "outputs": [
    {
     "data": {
      "text/plain": [
       "'a'"
      ]
     },
     "execution_count": 128,
     "metadata": {},
     "output_type": "execute_result"
    }
   ],
   "source": [
    "t1 = (1, 2, 3, 'abc', [10, 20])\n",
    "t1[3][0]"
   ]
  },
  {
   "cell_type": "code",
   "execution_count": 129,
   "id": "552e3fef",
   "metadata": {},
   "outputs": [
    {
     "data": {
      "text/plain": [
       "2"
      ]
     },
     "execution_count": 129,
     "metadata": {},
     "output_type": "execute_result"
    }
   ],
   "source": [
    "t1.index(3)"
   ]
  },
  {
   "cell_type": "code",
   "execution_count": 130,
   "id": "8a668f22",
   "metadata": {},
   "outputs": [
    {
     "data": {
      "text/plain": [
       "10"
      ]
     },
     "execution_count": 130,
     "metadata": {},
     "output_type": "execute_result"
    }
   ],
   "source": [
    "t1[-1][0]"
   ]
  },
  {
   "cell_type": "code",
   "execution_count": 132,
   "id": "c41839d7",
   "metadata": {},
   "outputs": [
    {
     "name": "stdout",
     "output_type": "stream",
     "text": [
      "2263581053872\n",
      "2263581053872\n"
     ]
    }
   ],
   "source": [
    "t1 = (1, 2, 3, 'abc', [10, 20])\n",
    "print(id(t1))\n",
    "t1[-1][0] = 100\n",
    "print(id(t1))"
   ]
  },
  {
   "cell_type": "markdown",
   "id": "06640507",
   "metadata": {},
   "source": [
    "# Dictionary"
   ]
  },
  {
   "cell_type": "code",
   "execution_count": 133,
   "id": "77e3f270",
   "metadata": {},
   "outputs": [
    {
     "name": "stdout",
     "output_type": "stream",
     "text": [
      "<class 'dict'>\n"
     ]
    }
   ],
   "source": [
    "d1 = {}\n",
    "print(type(d1))"
   ]
  },
  {
   "cell_type": "code",
   "execution_count": 134,
   "id": "a5a5ebeb",
   "metadata": {},
   "outputs": [
    {
     "name": "stdout",
     "output_type": "stream",
     "text": [
      "<class 'dict'>\n"
     ]
    }
   ],
   "source": [
    "d2 = dict()\n",
    "print(type(d2))"
   ]
  },
  {
   "cell_type": "code",
   "execution_count": 135,
   "id": "b8142756",
   "metadata": {
    "scrolled": true
   },
   "outputs": [
    {
     "name": "stdout",
     "output_type": "stream",
     "text": [
      "{10: 'Ten', 20: 'Twenty', 30: 'Thirty'}\n"
     ]
    }
   ],
   "source": [
    "d1 = {10:'Ten', 20:'Twenty', 30:'Thirty'}\n",
    "print(d1)"
   ]
  },
  {
   "cell_type": "code",
   "execution_count": 136,
   "id": "0462deeb",
   "metadata": {},
   "outputs": [
    {
     "data": {
      "text/plain": [
       "3"
      ]
     },
     "execution_count": 136,
     "metadata": {},
     "output_type": "execute_result"
    }
   ],
   "source": [
    "len(d1)"
   ]
  },
  {
   "cell_type": "code",
   "execution_count": 137,
   "id": "c9b71fda",
   "metadata": {},
   "outputs": [
    {
     "data": {
      "text/plain": [
       "30"
      ]
     },
     "execution_count": 137,
     "metadata": {},
     "output_type": "execute_result"
    }
   ],
   "source": [
    "max(d1)"
   ]
  },
  {
   "cell_type": "code",
   "execution_count": 138,
   "id": "507575b3",
   "metadata": {},
   "outputs": [
    {
     "data": {
      "text/plain": [
       "10"
      ]
     },
     "execution_count": 138,
     "metadata": {},
     "output_type": "execute_result"
    }
   ],
   "source": [
    "min(d1)"
   ]
  },
  {
   "cell_type": "code",
   "execution_count": 139,
   "id": "3de7af50",
   "metadata": {},
   "outputs": [
    {
     "data": {
      "text/plain": [
       "60"
      ]
     },
     "execution_count": 139,
     "metadata": {},
     "output_type": "execute_result"
    }
   ],
   "source": [
    "sum(d1)"
   ]
  },
  {
   "cell_type": "code",
   "execution_count": 143,
   "id": "32e93426",
   "metadata": {},
   "outputs": [
    {
     "name": "stdout",
     "output_type": "stream",
     "text": [
      "dict_keys([10, 20, 30])\n",
      "dict_values(['Ten', 'Twenty', 'Thirty'])\n",
      "dict_items([(10, 'Ten'), (20, 'Twenty'), (30, 'Thirty')])\n"
     ]
    }
   ],
   "source": [
    "d1 = {10:'Ten', 20:'Twenty', 30:'Thirty'}\n",
    "print(d1.keys())\n",
    "print(d1.values())\n",
    "print(d1.items())"
   ]
  },
  {
   "cell_type": "code",
   "execution_count": 144,
   "id": "c4e15f02",
   "metadata": {},
   "outputs": [
    {
     "ename": "KeyError",
     "evalue": "0",
     "output_type": "error",
     "traceback": [
      "\u001b[1;31m---------------------------------------------------------------------------\u001b[0m",
      "\u001b[1;31mKeyError\u001b[0m                                  Traceback (most recent call last)",
      "\u001b[1;32m~\\AppData\\Local\\Temp\\ipykernel_11684\\26524463.py\u001b[0m in \u001b[0;36m<module>\u001b[1;34m\u001b[0m\n\u001b[0;32m      1\u001b[0m \u001b[0md1\u001b[0m \u001b[1;33m=\u001b[0m \u001b[1;33m{\u001b[0m\u001b[1;36m10\u001b[0m\u001b[1;33m:\u001b[0m\u001b[1;34m'Ten'\u001b[0m\u001b[1;33m,\u001b[0m \u001b[1;36m20\u001b[0m\u001b[1;33m:\u001b[0m\u001b[1;34m'Twenty'\u001b[0m\u001b[1;33m,\u001b[0m \u001b[1;36m30\u001b[0m\u001b[1;33m:\u001b[0m\u001b[1;34m'Thirty'\u001b[0m\u001b[1;33m}\u001b[0m\u001b[1;33m\u001b[0m\u001b[1;33m\u001b[0m\u001b[0m\n\u001b[1;32m----> 2\u001b[1;33m \u001b[0md1\u001b[0m\u001b[1;33m[\u001b[0m\u001b[1;36m0\u001b[0m\u001b[1;33m]\u001b[0m\u001b[1;33m\u001b[0m\u001b[1;33m\u001b[0m\u001b[0m\n\u001b[0m",
      "\u001b[1;31mKeyError\u001b[0m: 0"
     ]
    }
   ],
   "source": [
    "d1 = {10:'Ten', 20:'Twenty', 30:'Thirty'}\n",
    "d1[0]"
   ]
  },
  {
   "cell_type": "code",
   "execution_count": 145,
   "id": "5e4dc9c1",
   "metadata": {},
   "outputs": [
    {
     "data": {
      "text/plain": [
       "'Ten'"
      ]
     },
     "execution_count": 145,
     "metadata": {},
     "output_type": "execute_result"
    }
   ],
   "source": [
    "d1[10]"
   ]
  },
  {
   "cell_type": "code",
   "execution_count": 146,
   "id": "71f3593d",
   "metadata": {},
   "outputs": [
    {
     "name": "stdout",
     "output_type": "stream",
     "text": [
      "{10: 'TEN', 20: 'Twenty', 30: 'Thirty'}\n"
     ]
    }
   ],
   "source": [
    "d1[10] ='TEN'\n",
    "print(d1)"
   ]
  },
  {
   "cell_type": "code",
   "execution_count": 147,
   "id": "4f2fcd1c",
   "metadata": {},
   "outputs": [
    {
     "name": "stdout",
     "output_type": "stream",
     "text": [
      "{10: 'TEN', 20: 'Twenty', 30: 'Thirty', 40: 'Fourty'}\n"
     ]
    }
   ],
   "source": [
    "d1[40] = 'Fourty'\n",
    "print(d1)"
   ]
  },
  {
   "cell_type": "code",
   "execution_count": 148,
   "id": "44ccb9b0",
   "metadata": {},
   "outputs": [
    {
     "name": "stdout",
     "output_type": "stream",
     "text": [
      "{10: 'TEN', 20: 'Twenty', 30: 'Thirty', 40: 'Fourty'}\n"
     ]
    }
   ],
   "source": [
    "d1 = {10:'Ten', 20:'Twenty', 30:'Thirty'}\n",
    "d1.update({10:'TEN', 40: 'Fourty'})\n",
    "print(d1)"
   ]
  },
  {
   "cell_type": "code",
   "execution_count": 149,
   "id": "4f5a3c85",
   "metadata": {},
   "outputs": [
    {
     "name": "stdout",
     "output_type": "stream",
     "text": [
      "(10, 'TEN')\n",
      "<class 'tuple'>\n",
      "\n",
      "(20, 'Twenty')\n",
      "<class 'tuple'>\n",
      "\n",
      "(30, 'Thirty')\n",
      "<class 'tuple'>\n",
      "\n",
      "(40, 'Fourty')\n",
      "<class 'tuple'>\n",
      "\n"
     ]
    }
   ],
   "source": [
    "for data in d1.items():\n",
    "    print(data)\n",
    "    print(type(data))\n",
    "    print()"
   ]
  },
  {
   "cell_type": "code",
   "execution_count": 150,
   "id": "bf962893",
   "metadata": {},
   "outputs": [
    {
     "name": "stdout",
     "output_type": "stream",
     "text": [
      "Key is:  10\n",
      "Value is:  TEN\n",
      "\n",
      "Key is:  20\n",
      "Value is:  Twenty\n",
      "\n",
      "Key is:  30\n",
      "Value is:  Thirty\n",
      "\n",
      "Key is:  40\n",
      "Value is:  Fourty\n",
      "\n"
     ]
    }
   ],
   "source": [
    "for k, v in d1.items():\n",
    "    print('Key is: ', k)\n",
    "    print('Value is: ', v)\n",
    "    print()"
   ]
  },
  {
   "cell_type": "code",
   "execution_count": 151,
   "id": "1c46f41d",
   "metadata": {},
   "outputs": [
    {
     "name": "stdout",
     "output_type": "stream",
     "text": [
      "TEN\n",
      "\n",
      "Twenty\n",
      "\n",
      "Thirty\n",
      "\n",
      "Fourty\n",
      "\n"
     ]
    }
   ],
   "source": [
    "for key in d1.keys():\n",
    "    print(d1[key])\n",
    "    print()"
   ]
  },
  {
   "cell_type": "code",
   "execution_count": 152,
   "id": "d2292316",
   "metadata": {},
   "outputs": [
    {
     "name": "stdout",
     "output_type": "stream",
     "text": [
      "TEN\n",
      "\n",
      "Twenty\n",
      "\n",
      "Thirty\n",
      "\n",
      "Fourty\n",
      "\n"
     ]
    }
   ],
   "source": [
    "for val in d1.values():\n",
    "    print(val)\n",
    "    print()"
   ]
  },
  {
   "cell_type": "code",
   "execution_count": 153,
   "id": "070bac2b",
   "metadata": {},
   "outputs": [
    {
     "name": "stdout",
     "output_type": "stream",
     "text": [
      "{10: 'TEN', 20: 'Twenty', 30: 'Thirty', 40: 'Fourty'}\n"
     ]
    }
   ],
   "source": [
    "print(d1)"
   ]
  },
  {
   "cell_type": "code",
   "execution_count": 154,
   "id": "2d31c0aa",
   "metadata": {},
   "outputs": [
    {
     "ename": "TypeError",
     "evalue": "pop expected at least 1 argument, got 0",
     "output_type": "error",
     "traceback": [
      "\u001b[1;31m---------------------------------------------------------------------------\u001b[0m",
      "\u001b[1;31mTypeError\u001b[0m                                 Traceback (most recent call last)",
      "\u001b[1;32m~\\AppData\\Local\\Temp\\ipykernel_11684\\2360615128.py\u001b[0m in \u001b[0;36m<module>\u001b[1;34m\u001b[0m\n\u001b[1;32m----> 1\u001b[1;33m \u001b[0md1\u001b[0m\u001b[1;33m.\u001b[0m\u001b[0mpop\u001b[0m\u001b[1;33m(\u001b[0m\u001b[1;33m)\u001b[0m\u001b[1;33m\u001b[0m\u001b[1;33m\u001b[0m\u001b[0m\n\u001b[0m",
      "\u001b[1;31mTypeError\u001b[0m: pop expected at least 1 argument, got 0"
     ]
    }
   ],
   "source": [
    "d1.pop()"
   ]
  },
  {
   "cell_type": "code",
   "execution_count": 155,
   "id": "38af27a9",
   "metadata": {},
   "outputs": [
    {
     "ename": "KeyError",
     "evalue": "'Fourty'",
     "output_type": "error",
     "traceback": [
      "\u001b[1;31m---------------------------------------------------------------------------\u001b[0m",
      "\u001b[1;31mKeyError\u001b[0m                                  Traceback (most recent call last)",
      "\u001b[1;32m~\\AppData\\Local\\Temp\\ipykernel_11684\\607174571.py\u001b[0m in \u001b[0;36m<module>\u001b[1;34m\u001b[0m\n\u001b[1;32m----> 1\u001b[1;33m \u001b[0md1\u001b[0m\u001b[1;33m.\u001b[0m\u001b[0mpop\u001b[0m\u001b[1;33m(\u001b[0m\u001b[1;34m'Fourty'\u001b[0m\u001b[1;33m)\u001b[0m\u001b[1;33m\u001b[0m\u001b[1;33m\u001b[0m\u001b[0m\n\u001b[0m",
      "\u001b[1;31mKeyError\u001b[0m: 'Fourty'"
     ]
    }
   ],
   "source": [
    "d1.pop('Fourty')"
   ]
  },
  {
   "cell_type": "code",
   "execution_count": 158,
   "id": "94ddda01",
   "metadata": {},
   "outputs": [
    {
     "ename": "KeyError",
     "evalue": "50",
     "output_type": "error",
     "traceback": [
      "\u001b[1;31m---------------------------------------------------------------------------\u001b[0m",
      "\u001b[1;31mKeyError\u001b[0m                                  Traceback (most recent call last)",
      "\u001b[1;32m~\\AppData\\Local\\Temp\\ipykernel_11684\\1137832727.py\u001b[0m in \u001b[0;36m<module>\u001b[1;34m\u001b[0m\n\u001b[1;32m----> 1\u001b[1;33m \u001b[0mx\u001b[0m \u001b[1;33m=\u001b[0m \u001b[0md1\u001b[0m\u001b[1;33m.\u001b[0m\u001b[0mpop\u001b[0m\u001b[1;33m(\u001b[0m\u001b[1;36m50\u001b[0m\u001b[1;33m)\u001b[0m\u001b[1;33m\u001b[0m\u001b[1;33m\u001b[0m\u001b[0m\n\u001b[0m\u001b[0;32m      2\u001b[0m \u001b[0mprint\u001b[0m\u001b[1;33m(\u001b[0m\u001b[0mx\u001b[0m\u001b[1;33m)\u001b[0m\u001b[1;33m\u001b[0m\u001b[1;33m\u001b[0m\u001b[0m\n\u001b[0;32m      3\u001b[0m \u001b[0mprint\u001b[0m\u001b[1;33m(\u001b[0m\u001b[0md1\u001b[0m\u001b[1;33m)\u001b[0m\u001b[1;33m\u001b[0m\u001b[1;33m\u001b[0m\u001b[0m\n",
      "\u001b[1;31mKeyError\u001b[0m: 50"
     ]
    }
   ],
   "source": [
    "x = d1.pop(50)\n",
    "print(x)\n",
    "print(d1)"
   ]
  },
  {
   "cell_type": "code",
   "execution_count": 157,
   "id": "ed7e6a26",
   "metadata": {},
   "outputs": [
    {
     "name": "stdout",
     "output_type": "stream",
     "text": [
      "(30, 'Thirty')\n",
      "{10: 'TEN', 20: 'Twenty'}\n"
     ]
    }
   ],
   "source": [
    "x = d1.popitem()\n",
    "print(x)\n",
    "print(d1)"
   ]
  },
  {
   "cell_type": "code",
   "execution_count": 160,
   "id": "31816c55",
   "metadata": {},
   "outputs": [
    {
     "name": "stdout",
     "output_type": "stream",
     "text": [
      "TEN\n"
     ]
    }
   ],
   "source": [
    "d1 = {10: 'TEN', 20: 'Twenty', 30: 'Thirty', 40: 'Fourty'}\n",
    "print(d1[10])"
   ]
  },
  {
   "cell_type": "code",
   "execution_count": 161,
   "id": "c190655a",
   "metadata": {},
   "outputs": [
    {
     "ename": "KeyError",
     "evalue": "50",
     "output_type": "error",
     "traceback": [
      "\u001b[1;31m---------------------------------------------------------------------------\u001b[0m",
      "\u001b[1;31mKeyError\u001b[0m                                  Traceback (most recent call last)",
      "\u001b[1;32m~\\AppData\\Local\\Temp\\ipykernel_11684\\858980114.py\u001b[0m in \u001b[0;36m<module>\u001b[1;34m\u001b[0m\n\u001b[1;32m----> 1\u001b[1;33m \u001b[0mprint\u001b[0m\u001b[1;33m(\u001b[0m\u001b[0md1\u001b[0m\u001b[1;33m[\u001b[0m\u001b[1;36m50\u001b[0m\u001b[1;33m]\u001b[0m\u001b[1;33m)\u001b[0m\u001b[1;33m\u001b[0m\u001b[1;33m\u001b[0m\u001b[0m\n\u001b[0m",
      "\u001b[1;31mKeyError\u001b[0m: 50"
     ]
    }
   ],
   "source": [
    "print(d1[50])"
   ]
  },
  {
   "cell_type": "code",
   "execution_count": 164,
   "id": "dd7ced17",
   "metadata": {},
   "outputs": [
    {
     "name": "stdout",
     "output_type": "stream",
     "text": [
      "No such key\n"
     ]
    }
   ],
   "source": [
    "if 50 in d1.keys():\n",
    "    print(d1[10])\n",
    "else:\n",
    "    print('No such key')"
   ]
  },
  {
   "cell_type": "code",
   "execution_count": 168,
   "id": "b7b1c3e5",
   "metadata": {},
   "outputs": [
    {
     "name": "stdout",
     "output_type": "stream",
     "text": [
      "No such key\n"
     ]
    }
   ],
   "source": [
    "x = d1.get(50)\n",
    "# print(x)\n",
    "if x:\n",
    "    print(x)\n",
    "else:\n",
    "    print('No such key')"
   ]
  },
  {
   "cell_type": "code",
   "execution_count": 169,
   "id": "75fed8ed",
   "metadata": {},
   "outputs": [
    {
     "data": {
      "text/plain": [
       "'TEN'"
      ]
     },
     "execution_count": 169,
     "metadata": {},
     "output_type": "execute_result"
    }
   ],
   "source": [
    "d1.get(10)"
   ]
  },
  {
   "cell_type": "code",
   "execution_count": 171,
   "id": "99445ee2",
   "metadata": {},
   "outputs": [
    {
     "name": "stdout",
     "output_type": "stream",
     "text": [
      "None\n"
     ]
    }
   ],
   "source": [
    "x = d1.get(50)\n",
    "print(x)"
   ]
  },
  {
   "cell_type": "code",
   "execution_count": 172,
   "id": "b14dc404",
   "metadata": {},
   "outputs": [
    {
     "name": "stdout",
     "output_type": "stream",
     "text": [
      "TEN\n"
     ]
    }
   ],
   "source": [
    "x = d1.get(10, 'Unknown')\n",
    "print(x)"
   ]
  },
  {
   "cell_type": "code",
   "execution_count": 173,
   "id": "94b1b301",
   "metadata": {},
   "outputs": [
    {
     "name": "stdout",
     "output_type": "stream",
     "text": [
      "Unknown\n"
     ]
    }
   ],
   "source": [
    "x = d1.get(50, 'Unknown')\n",
    "print(x)"
   ]
  },
  {
   "cell_type": "code",
   "execution_count": 174,
   "id": "41fead9c",
   "metadata": {},
   "outputs": [
    {
     "name": "stdout",
     "output_type": "stream",
     "text": [
      "TEN\n",
      "{10: 'TEN', 20: 'Twenty', 30: 'Thirty', 40: 'Fourty'}\n"
     ]
    }
   ],
   "source": [
    "d1 = {10: 'TEN', 20: 'Twenty', 30: 'Thirty', 40: 'Fourty'}\n",
    "x = d1.setdefault(10)\n",
    "print(x)\n",
    "print(d1)"
   ]
  },
  {
   "cell_type": "code",
   "execution_count": 175,
   "id": "1c331245",
   "metadata": {},
   "outputs": [
    {
     "name": "stdout",
     "output_type": "stream",
     "text": [
      "None\n",
      "{10: 'TEN', 20: 'Twenty', 30: 'Thirty', 40: 'Fourty', 50: None}\n"
     ]
    }
   ],
   "source": [
    "d1 = {10: 'TEN', 20: 'Twenty', 30: 'Thirty', 40: 'Fourty'}\n",
    "x = d1.setdefault(50)\n",
    "print(x)\n",
    "print(d1)"
   ]
  },
  {
   "cell_type": "code",
   "execution_count": 176,
   "id": "03d60f50",
   "metadata": {},
   "outputs": [
    {
     "name": "stdout",
     "output_type": "stream",
     "text": [
      "TEN\n",
      "{10: 'TEN', 20: 'Twenty', 30: 'Thirty', 40: 'Fourty', 50: None}\n"
     ]
    }
   ],
   "source": [
    "d1 = {10: 'TEN', 20: 'Twenty', 30: 'Thirty', 40: 'Fourty', 50: None}\n",
    "x = d1.setdefault(10, 'Unknown')\n",
    "print(x)\n",
    "print(d1)"
   ]
  },
  {
   "cell_type": "code",
   "execution_count": 177,
   "id": "9437f5ac",
   "metadata": {},
   "outputs": [
    {
     "name": "stdout",
     "output_type": "stream",
     "text": [
      "Unknown\n",
      "{10: 'TEN', 20: 'Twenty', 30: 'Thirty', 40: 'Fourty', 50: None, 60: 'Unknown'}\n"
     ]
    }
   ],
   "source": [
    "d1 = {10: 'TEN', 20: 'Twenty', 30: 'Thirty', 40: 'Fourty', 50: None}\n",
    "x = d1.setdefault(60, 'Unknown')\n",
    "print(x)\n",
    "print(d1)"
   ]
  },
  {
   "cell_type": "code",
   "execution_count": 181,
   "id": "f808b378",
   "metadata": {},
   "outputs": [
    {
     "name": "stdout",
     "output_type": "stream",
     "text": [
      "None\n"
     ]
    }
   ],
   "source": [
    "x = d1.get(50)\n",
    "print(x)\n",
    "# x"
   ]
  },
  {
   "cell_type": "code",
   "execution_count": 182,
   "id": "98b05bc2",
   "metadata": {},
   "outputs": [
    {
     "name": "stdout",
     "output_type": "stream",
     "text": [
      "{}\n"
     ]
    }
   ],
   "source": [
    "d1.clear()\n",
    "print(d1)"
   ]
  },
  {
   "cell_type": "code",
   "execution_count": 183,
   "id": "8852c0fa",
   "metadata": {},
   "outputs": [],
   "source": [
    "del d1"
   ]
  },
  {
   "cell_type": "code",
   "execution_count": 184,
   "id": "df9df517",
   "metadata": {},
   "outputs": [
    {
     "data": {
      "text/plain": [
       "{'Abhay': 15000, 'Bob': 10000, 'Jatin': 25000, 'Peter': 30000}"
      ]
     },
     "execution_count": 184,
     "metadata": {},
     "output_type": "execute_result"
    }
   ],
   "source": [
    "emp_list = ['Abhay', 'Bob', 'Jatin', 'Peter']\n",
    "sal_list = [15000, 10000, 25000, 30000]\n",
    "d1 = dict(zip(emp_list, sal_list))\n",
    "d1"
   ]
  },
  {
   "cell_type": "code",
   "execution_count": 185,
   "id": "c34bc97b",
   "metadata": {},
   "outputs": [
    {
     "data": {
      "text/plain": [
       "[5, 6, 7]"
      ]
     },
     "execution_count": 185,
     "metadata": {},
     "output_type": "execute_result"
    }
   ],
   "source": [
    "d4 = {1: [1, 2, [5, 6, 7]], 2: ('a', 'b', 'c') }\n",
    "#extract [5,6,7] from d4\n",
    "d4[1][2]"
   ]
  },
  {
   "cell_type": "code",
   "execution_count": 186,
   "id": "73624641",
   "metadata": {},
   "outputs": [
    {
     "data": {
      "text/plain": [
       "6"
      ]
     },
     "execution_count": 186,
     "metadata": {},
     "output_type": "execute_result"
    }
   ],
   "source": [
    "#extract 6\n",
    "d4[1][2][1]"
   ]
  },
  {
   "cell_type": "code",
   "execution_count": 187,
   "id": "d89f96a1",
   "metadata": {},
   "outputs": [
    {
     "data": {
      "text/plain": [
       "'b'"
      ]
     },
     "execution_count": 187,
     "metadata": {},
     "output_type": "execute_result"
    }
   ],
   "source": [
    "#extract 'b'\n",
    "d4[2][1]"
   ]
  },
  {
   "cell_type": "code",
   "execution_count": 188,
   "id": "8aee108e",
   "metadata": {},
   "outputs": [
    {
     "data": {
      "text/plain": [
       "'z'"
      ]
     },
     "execution_count": 188,
     "metadata": {},
     "output_type": "execute_result"
    }
   ],
   "source": [
    "d5={'one':{'el_one':[3,4,6,{'el_two':'z'}]}}\n",
    "\n",
    "# extract 'z'\n",
    "d5['one']['el_one'][3]['el_two']"
   ]
  },
  {
   "cell_type": "code",
   "execution_count": 189,
   "id": "f61f9485",
   "metadata": {},
   "outputs": [
    {
     "data": {
      "text/plain": [
       "'merge'"
      ]
     },
     "execution_count": 189,
     "metadata": {},
     "output_type": "execute_result"
    }
   ],
   "source": [
    "d6={'new':[9,4,5,['split','merge',10]],\n",
    "    'old':('s',17,0),'mid':{'ram':4,\n",
    "                            'ravi':8}}\n",
    "#Extract 'merge'\n",
    "d6['new'][3][1]"
   ]
  },
  {
   "cell_type": "code",
   "execution_count": 190,
   "id": "ffcdc111",
   "metadata": {},
   "outputs": [
    {
     "data": {
      "text/plain": [
       "8"
      ]
     },
     "execution_count": 190,
     "metadata": {},
     "output_type": "execute_result"
    }
   ],
   "source": [
    "#extract 8\n",
    "d6['mid']['ravi']"
   ]
  },
  {
   "cell_type": "markdown",
   "id": "ce88e4b8",
   "metadata": {},
   "source": [
    "# Set"
   ]
  },
  {
   "cell_type": "code",
   "execution_count": 191,
   "id": "b71d1b12",
   "metadata": {},
   "outputs": [
    {
     "name": "stdout",
     "output_type": "stream",
     "text": [
      "<class 'set'>\n"
     ]
    }
   ],
   "source": [
    "s1 = set()\n",
    "print(type(s1))"
   ]
  },
  {
   "cell_type": "code",
   "execution_count": 192,
   "id": "d7ee2677",
   "metadata": {},
   "outputs": [
    {
     "name": "stdout",
     "output_type": "stream",
     "text": [
      "4\n",
      "{1, 2, 3, 4}\n"
     ]
    }
   ],
   "source": [
    "s1 = {1, 2, 3, 1, 2, 1, 3, 4}\n",
    "print(len(s1))\n",
    "print(s1)"
   ]
  },
  {
   "cell_type": "code",
   "execution_count": 193,
   "id": "e4668aef",
   "metadata": {},
   "outputs": [
    {
     "name": "stdout",
     "output_type": "stream",
     "text": [
      "1\n",
      "2\n",
      "3\n",
      "4\n"
     ]
    }
   ],
   "source": [
    "for val in s1:\n",
    "    print(val)"
   ]
  },
  {
   "cell_type": "code",
   "execution_count": 209,
   "id": "eb10be72",
   "metadata": {},
   "outputs": [
    {
     "name": "stdout",
     "output_type": "stream",
     "text": [
      "{1, 2, 3, 4, 5}\n"
     ]
    }
   ],
   "source": [
    "s1.add(5)\n",
    "print(s1)"
   ]
  },
  {
   "cell_type": "code",
   "execution_count": 210,
   "id": "6c7bcd91",
   "metadata": {},
   "outputs": [
    {
     "name": "stdout",
     "output_type": "stream",
     "text": [
      "{1, 2, 3, 4, 5, 10}\n"
     ]
    }
   ],
   "source": [
    "s1.update([1, 2, 10])\n",
    "print(s1)"
   ]
  },
  {
   "cell_type": "code",
   "execution_count": 214,
   "id": "69760279",
   "metadata": {},
   "outputs": [
    {
     "name": "stdout",
     "output_type": "stream",
     "text": [
      "4\n",
      "{5, 10}\n"
     ]
    }
   ],
   "source": [
    "#pop\n",
    "x = s1.pop()\n",
    "print(x)\n",
    "print(s1)"
   ]
  },
  {
   "cell_type": "code",
   "execution_count": 215,
   "id": "f6303f92",
   "metadata": {},
   "outputs": [
    {
     "name": "stdout",
     "output_type": "stream",
     "text": [
      "None\n",
      "{1, 3, 4, 5}\n"
     ]
    }
   ],
   "source": [
    "# remove\n",
    "s1 = {1, 2, 3, 4, 5}\n",
    "x = s1.remove(2)\n",
    "print(x)\n",
    "print(s1)"
   ]
  },
  {
   "cell_type": "code",
   "execution_count": 216,
   "id": "e511c855",
   "metadata": {},
   "outputs": [
    {
     "ename": "KeyError",
     "evalue": "2",
     "output_type": "error",
     "traceback": [
      "\u001b[1;31m---------------------------------------------------------------------------\u001b[0m",
      "\u001b[1;31mKeyError\u001b[0m                                  Traceback (most recent call last)",
      "\u001b[1;32m~\\AppData\\Local\\Temp\\ipykernel_11684\\1394841180.py\u001b[0m in \u001b[0;36m<module>\u001b[1;34m\u001b[0m\n\u001b[1;32m----> 1\u001b[1;33m \u001b[0ms1\u001b[0m\u001b[1;33m.\u001b[0m\u001b[0mremove\u001b[0m\u001b[1;33m(\u001b[0m\u001b[1;36m2\u001b[0m\u001b[1;33m)\u001b[0m\u001b[1;33m\u001b[0m\u001b[1;33m\u001b[0m\u001b[0m\n\u001b[0m",
      "\u001b[1;31mKeyError\u001b[0m: 2"
     ]
    }
   ],
   "source": [
    "s1.remove(2)"
   ]
  },
  {
   "cell_type": "code",
   "execution_count": 227,
   "id": "d80b847f",
   "metadata": {},
   "outputs": [
    {
     "name": "stdout",
     "output_type": "stream",
     "text": [
      "{1, 4, 5}\n",
      "None\n",
      "{1, 4, 5}\n"
     ]
    }
   ],
   "source": [
    "# discard\n",
    "print(s1)\n",
    "x = s1.discard(3)\n",
    "print(x)\n",
    "print(s1)"
   ]
  },
  {
   "cell_type": "code",
   "execution_count": 228,
   "id": "ff37d99b",
   "metadata": {},
   "outputs": [
    {
     "name": "stdout",
     "output_type": "stream",
     "text": [
      "set()\n"
     ]
    }
   ],
   "source": [
    "# clear\n",
    "s1.clear()\n",
    "print(s1)"
   ]
  },
  {
   "cell_type": "code",
   "execution_count": 230,
   "id": "5f538c8c",
   "metadata": {},
   "outputs": [
    {
     "name": "stdout",
     "output_type": "stream",
     "text": [
      "{1, 2, 3, 4, 5, 6, 7}\n",
      "{5, 6, 7, 8, 9, 10}\n",
      "{1, 2, 3, 4, 5, 6, 7, 8, 9, 10}\n"
     ]
    }
   ],
   "source": [
    "# union\n",
    "s1 = {1, 2, 3, 4, 5, 6, 7}\n",
    "s2 = {5, 6, 7, 8, 9, 10}\n",
    "\n",
    "s3 = s2.union(s1)\n",
    "print(s1)\n",
    "print(s2)\n",
    "print(s3)"
   ]
  },
  {
   "cell_type": "code",
   "execution_count": 233,
   "id": "f6619b1f",
   "metadata": {},
   "outputs": [
    {
     "name": "stdout",
     "output_type": "stream",
     "text": [
      "{1, 2, 3, 4, 5, 6, 7}\n",
      "{5, 6, 7, 8, 9, 10}\n",
      "{5, 6, 7}\n"
     ]
    }
   ],
   "source": [
    "# intersection\n",
    "s1 = {1, 2, 3, 4, 5, 6, 7}\n",
    "s2 = {5, 6, 7, 8, 9, 10}\n",
    "\n",
    "s3 = s2.intersection(s1)\n",
    "print(s1)\n",
    "print(s2)\n",
    "print(s3)"
   ]
  },
  {
   "cell_type": "code",
   "execution_count": 236,
   "id": "11c3a889",
   "metadata": {},
   "outputs": [
    {
     "name": "stdout",
     "output_type": "stream",
     "text": [
      "{1, 2, 3, 4, 5, 6, 7}\n",
      "{5, 6, 7, 8, 9, 10}\n",
      "{8, 9, 10}\n",
      "{1, 2, 3, 4}\n"
     ]
    }
   ],
   "source": [
    "# difference\n",
    "s1 = {1, 2, 3, 4, 5, 6, 7}\n",
    "s2 = {5, 6, 7, 8, 9, 10}\n",
    "\n",
    "s3 = s2.difference(s1)\n",
    "s4 = s1.difference(s2)\n",
    "print(s1)\n",
    "print(s2)\n",
    "print(s3)\n",
    "print(s4)"
   ]
  },
  {
   "cell_type": "code",
   "execution_count": 237,
   "id": "cbeb4c6a",
   "metadata": {},
   "outputs": [
    {
     "name": "stdout",
     "output_type": "stream",
     "text": [
      "{1, 2, 3, 4, 5, 6, 7}\n",
      "{5, 6, 7, 8, 9, 10}\n",
      "{1, 2, 3, 4, 8, 9, 10}\n"
     ]
    }
   ],
   "source": [
    "# symmetric_difference\n",
    "s1 = {1, 2, 3, 4, 5, 6, 7}\n",
    "s2 = {5, 6, 7, 8, 9, 10}\n",
    "\n",
    "s3 = s2.symmetric_difference(s1)\n",
    "\n",
    "print(s1)\n",
    "print(s2)\n",
    "print(s3)"
   ]
  },
  {
   "cell_type": "code",
   "execution_count": 243,
   "id": "21c2d332",
   "metadata": {},
   "outputs": [
    {
     "name": "stdout",
     "output_type": "stream",
     "text": [
      "Peter\n"
     ]
    }
   ],
   "source": [
    "# find the name of employee who is getting maximum/minimum salary\n",
    "\n",
    "d1 = {'Abhay': 15000, 'Bob': 10000, 'Jatin': 50000, 'Peter': 30000}\n",
    "emp = max(d1, key = d1.get)\n",
    "print(emp)"
   ]
  },
  {
   "cell_type": "code",
   "execution_count": 240,
   "id": "6cf50685",
   "metadata": {},
   "outputs": [
    {
     "name": "stdout",
     "output_type": "stream",
     "text": [
      "[-2, 4, 5, -6, 10, -20]\n"
     ]
    }
   ],
   "source": [
    "#sort the givgen list to get the below output\n",
    "l1 = [10, -2, 5, -6, -20, 4]\n",
    "\n",
    "# expected output\n",
    "# l1 = [-2, 4, 5, -6, 10, -20]\n",
    "\n",
    "l1.sort(key=abs)\n",
    "print(l1)"
   ]
  },
  {
   "cell_type": "code",
   "execution_count": null,
   "id": "415714ab",
   "metadata": {},
   "outputs": [],
   "source": []
  }
 ],
 "metadata": {
  "kernelspec": {
   "display_name": "Python 3 (ipykernel)",
   "language": "python",
   "name": "python3"
  },
  "language_info": {
   "codemirror_mode": {
    "name": "ipython",
    "version": 3
   },
   "file_extension": ".py",
   "mimetype": "text/x-python",
   "name": "python",
   "nbconvert_exporter": "python",
   "pygments_lexer": "ipython3",
   "version": "3.9.13"
  }
 },
 "nbformat": 4,
 "nbformat_minor": 5
}
