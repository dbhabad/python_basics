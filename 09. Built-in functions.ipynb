{
 "cells": [
  {
   "cell_type": "markdown",
   "id": "c27a35ca",
   "metadata": {},
   "source": [
    "## Type conversion functions"
   ]
  },
  {
   "cell_type": "code",
   "execution_count": 1,
   "id": "0ac7e7a0",
   "metadata": {},
   "outputs": [
    {
     "data": {
      "text/plain": [
       "10"
      ]
     },
     "execution_count": 1,
     "metadata": {},
     "output_type": "execute_result"
    }
   ],
   "source": [
    "a = 10.5\n",
    "int(a)"
   ]
  },
  {
   "cell_type": "code",
   "execution_count": 2,
   "id": "0fa75391",
   "metadata": {},
   "outputs": [
    {
     "data": {
      "text/plain": [
       "20.0"
      ]
     },
     "execution_count": 2,
     "metadata": {},
     "output_type": "execute_result"
    }
   ],
   "source": [
    "a = 20\n",
    "float(a)"
   ]
  },
  {
   "cell_type": "code",
   "execution_count": 3,
   "id": "b77b2543",
   "metadata": {},
   "outputs": [
    {
     "data": {
      "text/plain": [
       "10.0"
      ]
     },
     "execution_count": 3,
     "metadata": {},
     "output_type": "execute_result"
    }
   ],
   "source": [
    "s = '10'\n",
    "float(s)"
   ]
  },
  {
   "cell_type": "code",
   "execution_count": 4,
   "id": "513f2564",
   "metadata": {},
   "outputs": [
    {
     "data": {
      "text/plain": [
       "'10'"
      ]
     },
     "execution_count": 4,
     "metadata": {},
     "output_type": "execute_result"
    }
   ],
   "source": [
    "a = 10\n",
    "str(a)"
   ]
  },
  {
   "cell_type": "code",
   "execution_count": 5,
   "id": "51bb05c7",
   "metadata": {},
   "outputs": [
    {
     "data": {
      "text/plain": [
       "True"
      ]
     },
     "execution_count": 5,
     "metadata": {},
     "output_type": "execute_result"
    }
   ],
   "source": [
    "bool('True')"
   ]
  },
  {
   "cell_type": "code",
   "execution_count": 6,
   "id": "de5bd853",
   "metadata": {},
   "outputs": [
    {
     "data": {
      "text/plain": [
       "True"
      ]
     },
     "execution_count": 6,
     "metadata": {},
     "output_type": "execute_result"
    }
   ],
   "source": [
    "bool('Hi')"
   ]
  },
  {
   "cell_type": "code",
   "execution_count": 7,
   "id": "fbda7c64",
   "metadata": {},
   "outputs": [
    {
     "data": {
      "text/plain": [
       "True"
      ]
     },
     "execution_count": 7,
     "metadata": {},
     "output_type": "execute_result"
    }
   ],
   "source": [
    "bool('False')"
   ]
  },
  {
   "cell_type": "code",
   "execution_count": 9,
   "id": "6abdf560",
   "metadata": {},
   "outputs": [
    {
     "data": {
      "text/plain": [
       "True"
      ]
     },
     "execution_count": 9,
     "metadata": {},
     "output_type": "execute_result"
    }
   ],
   "source": [
    "bool(' ')"
   ]
  },
  {
   "cell_type": "code",
   "execution_count": 10,
   "id": "e43ceb4a",
   "metadata": {},
   "outputs": [
    {
     "data": {
      "text/plain": [
       "False"
      ]
     },
     "execution_count": 10,
     "metadata": {},
     "output_type": "execute_result"
    }
   ],
   "source": [
    "bool('')"
   ]
  },
  {
   "cell_type": "code",
   "execution_count": 11,
   "id": "c2204dab",
   "metadata": {},
   "outputs": [
    {
     "data": {
      "text/plain": [
       "False"
      ]
     },
     "execution_count": 11,
     "metadata": {},
     "output_type": "execute_result"
    }
   ],
   "source": [
    "bool(0)"
   ]
  },
  {
   "cell_type": "code",
   "execution_count": 12,
   "id": "029e905c",
   "metadata": {},
   "outputs": [
    {
     "data": {
      "text/plain": [
       "True"
      ]
     },
     "execution_count": 12,
     "metadata": {},
     "output_type": "execute_result"
    }
   ],
   "source": [
    "bool(1)"
   ]
  },
  {
   "cell_type": "code",
   "execution_count": 15,
   "id": "5c2f462e",
   "metadata": {},
   "outputs": [
    {
     "data": {
      "text/plain": [
       "False"
      ]
     },
     "execution_count": 15,
     "metadata": {},
     "output_type": "execute_result"
    }
   ],
   "source": [
    "bool(None)"
   ]
  },
  {
   "cell_type": "code",
   "execution_count": 17,
   "id": "c0e1bb17",
   "metadata": {},
   "outputs": [
    {
     "name": "stdout",
     "output_type": "stream",
     "text": [
      "Hi\n"
     ]
    }
   ],
   "source": [
    "if 'None':\n",
    "    print('Hi')\n",
    "else:\n",
    "    print('Hello')"
   ]
  },
  {
   "cell_type": "code",
   "execution_count": 18,
   "id": "ae0b6ef7",
   "metadata": {},
   "outputs": [
    {
     "data": {
      "text/plain": [
       "True"
      ]
     },
     "execution_count": 18,
     "metadata": {},
     "output_type": "execute_result"
    }
   ],
   "source": [
    "bool('abc')"
   ]
  },
  {
   "cell_type": "code",
   "execution_count": 19,
   "id": "08a4258d",
   "metadata": {},
   "outputs": [
    {
     "data": {
      "text/plain": [
       "False"
      ]
     },
     "execution_count": 19,
     "metadata": {},
     "output_type": "execute_result"
    }
   ],
   "source": [
    "bool(0.0)"
   ]
  },
  {
   "cell_type": "code",
   "execution_count": 20,
   "id": "97e8049c",
   "metadata": {},
   "outputs": [
    {
     "data": {
      "text/plain": [
       "True"
      ]
     },
     "execution_count": 20,
     "metadata": {},
     "output_type": "execute_result"
    }
   ],
   "source": [
    "bool('False')"
   ]
  },
  {
   "cell_type": "code",
   "execution_count": 21,
   "id": "672da2bb",
   "metadata": {},
   "outputs": [
    {
     "data": {
      "text/plain": [
       "False"
      ]
     },
     "execution_count": 21,
     "metadata": {},
     "output_type": "execute_result"
    }
   ],
   "source": [
    "bool('')"
   ]
  },
  {
   "cell_type": "code",
   "execution_count": 22,
   "id": "58ce556c",
   "metadata": {},
   "outputs": [
    {
     "data": {
      "text/plain": [
       "True"
      ]
     },
     "execution_count": 22,
     "metadata": {},
     "output_type": "execute_result"
    }
   ],
   "source": [
    "bool(' ')"
   ]
  },
  {
   "cell_type": "code",
   "execution_count": 6,
   "id": "9430fd52",
   "metadata": {},
   "outputs": [
    {
     "data": {
      "text/plain": [
       "tuple"
      ]
     },
     "execution_count": 6,
     "metadata": {},
     "output_type": "execute_result"
    }
   ],
   "source": [
    "type(tuple([5]))"
   ]
  },
  {
   "cell_type": "code",
   "execution_count": 7,
   "id": "f9a2c725",
   "metadata": {},
   "outputs": [
    {
     "data": {
      "text/plain": [
       "(1, 2, 3)"
      ]
     },
     "execution_count": 7,
     "metadata": {},
     "output_type": "execute_result"
    }
   ],
   "source": [
    "tuple([1,2,3])"
   ]
  },
  {
   "cell_type": "code",
   "execution_count": 8,
   "id": "d3483193",
   "metadata": {},
   "outputs": [
    {
     "data": {
      "text/plain": [
       "(1, 2, 3)"
      ]
     },
     "execution_count": 8,
     "metadata": {},
     "output_type": "execute_result"
    }
   ],
   "source": [
    "tuple({1,2,3})"
   ]
  },
  {
   "cell_type": "code",
   "execution_count": 9,
   "id": "d89017e1",
   "metadata": {},
   "outputs": [
    {
     "data": {
      "text/plain": [
       "[1, 2, 3]"
      ]
     },
     "execution_count": 9,
     "metadata": {},
     "output_type": "execute_result"
    }
   ],
   "source": [
    "list((1,2,3))"
   ]
  },
  {
   "cell_type": "code",
   "execution_count": 10,
   "id": "a8d3f053",
   "metadata": {},
   "outputs": [
    {
     "data": {
      "text/plain": [
       "[1, 2, 3]"
      ]
     },
     "execution_count": 10,
     "metadata": {},
     "output_type": "execute_result"
    }
   ],
   "source": [
    "list({1, 2, 3})"
   ]
  },
  {
   "cell_type": "code",
   "execution_count": 11,
   "id": "dfaf52ba",
   "metadata": {},
   "outputs": [
    {
     "data": {
      "text/plain": [
       "{1, 2, 3}"
      ]
     },
     "execution_count": 11,
     "metadata": {},
     "output_type": "execute_result"
    }
   ],
   "source": [
    "set([1,2,3,3,3])"
   ]
  },
  {
   "cell_type": "code",
   "execution_count": 12,
   "id": "d6dab053",
   "metadata": {},
   "outputs": [
    {
     "data": {
      "text/plain": [
       "{1, 2, 3}"
      ]
     },
     "execution_count": 12,
     "metadata": {},
     "output_type": "execute_result"
    }
   ],
   "source": [
    "set((1,2,3,3,3))"
   ]
  },
  {
   "cell_type": "markdown",
   "id": "c8f94693",
   "metadata": {},
   "source": [
    "## Input-output Functions"
   ]
  },
  {
   "cell_type": "code",
   "execution_count": null,
   "id": "b02b5cb0",
   "metadata": {},
   "outputs": [],
   "source": [
    "print('Hello')"
   ]
  },
  {
   "cell_type": "code",
   "execution_count": null,
   "id": "5c51e7c7",
   "metadata": {},
   "outputs": [],
   "source": [
    "name = input('Enter your name: ')"
   ]
  },
  {
   "cell_type": "markdown",
   "id": "c053eb83",
   "metadata": {},
   "source": [
    "## Object functions"
   ]
  },
  {
   "cell_type": "code",
   "execution_count": 13,
   "id": "f649ae91",
   "metadata": {},
   "outputs": [
    {
     "name": "stdout",
     "output_type": "stream",
     "text": [
      "2373192936016\n"
     ]
    }
   ],
   "source": [
    "# id()\n",
    "\n",
    "a = 10\n",
    "print(id(a))"
   ]
  },
  {
   "cell_type": "code",
   "execution_count": 15,
   "id": "eacdc779",
   "metadata": {},
   "outputs": [
    {
     "name": "stdout",
     "output_type": "stream",
     "text": [
      "2373192936016\n",
      "2373192936016\n"
     ]
    }
   ],
   "source": [
    "b = 10\n",
    "c= 10\n",
    "print(id(b))\n",
    "print(id(c))"
   ]
  },
  {
   "cell_type": "code",
   "execution_count": 16,
   "id": "77fb0d67",
   "metadata": {},
   "outputs": [
    {
     "name": "stdout",
     "output_type": "stream",
     "text": [
      "a is:  <class 'int'>\n",
      "b is:  <class 'str'>\n",
      "l1 is:  <class 'list'>\n",
      "d1 is:  <class 'dict'>\n"
     ]
    }
   ],
   "source": [
    "# type()\n",
    "\n",
    "a = 10\n",
    "print('a is: ', type(a))\n",
    "\n",
    "b = 'ABC'\n",
    "print('b is: ', type(b))\n",
    "\n",
    "l1 = [1, 2, 3]\n",
    "print('l1 is: ', type(l1))\n",
    "\n",
    "d1 ={10:'ABC', 20:'XYZ'}\n",
    "print('d1 is: ', type(d1))"
   ]
  },
  {
   "cell_type": "code",
   "execution_count": 17,
   "id": "7b0db616",
   "metadata": {},
   "outputs": [
    {
     "name": "stdout",
     "output_type": "stream",
     "text": [
      "True\n"
     ]
    }
   ],
   "source": [
    "# isinstance()\n",
    "\n",
    "a = 10\n",
    "print(isinstance(a, int))"
   ]
  },
  {
   "cell_type": "code",
   "execution_count": 18,
   "id": "52d40e64",
   "metadata": {},
   "outputs": [
    {
     "name": "stdout",
     "output_type": "stream",
     "text": [
      "False\n"
     ]
    }
   ],
   "source": [
    "a = 10\n",
    "print(isinstance(a, float))"
   ]
  },
  {
   "cell_type": "code",
   "execution_count": 19,
   "id": "49f5acbc",
   "metadata": {},
   "outputs": [
    {
     "name": "stdout",
     "output_type": "stream",
     "text": [
      "True\n"
     ]
    }
   ],
   "source": [
    "l1 = [10, 10, 30]\n",
    "print(isinstance(l1, list))"
   ]
  },
  {
   "cell_type": "code",
   "execution_count": 20,
   "id": "47c9cc30",
   "metadata": {},
   "outputs": [
    {
     "name": "stdout",
     "output_type": "stream",
     "text": [
      "False\n"
     ]
    }
   ],
   "source": [
    "l1 = [10, 10, 30]\n",
    "print(isinstance(l1, tuple))"
   ]
  },
  {
   "cell_type": "code",
   "execution_count": 21,
   "id": "5ae8883d",
   "metadata": {},
   "outputs": [
    {
     "name": "stdout",
     "output_type": "stream",
     "text": [
      "False\n"
     ]
    }
   ],
   "source": [
    "s1 = (10, 10, 30)\n",
    "print(isinstance(s1, dict))"
   ]
  },
  {
   "cell_type": "code",
   "execution_count": 22,
   "id": "68560f45",
   "metadata": {},
   "outputs": [
    {
     "name": "stdout",
     "output_type": "stream",
     "text": [
      "True\n"
     ]
    }
   ],
   "source": [
    "s1 = (10, 10, 30)\n",
    "print(isinstance(s1, tuple))"
   ]
  },
  {
   "cell_type": "markdown",
   "id": "b576f75f",
   "metadata": {},
   "source": [
    "## Number Functions"
   ]
  },
  {
   "cell_type": "code",
   "execution_count": 23,
   "id": "7f99878c",
   "metadata": {},
   "outputs": [
    {
     "data": {
      "text/plain": [
       "10"
      ]
     },
     "execution_count": 23,
     "metadata": {},
     "output_type": "execute_result"
    }
   ],
   "source": [
    "abs(10)"
   ]
  },
  {
   "cell_type": "code",
   "execution_count": 24,
   "id": "21048fa7",
   "metadata": {},
   "outputs": [
    {
     "data": {
      "text/plain": [
       "10"
      ]
     },
     "execution_count": 24,
     "metadata": {},
     "output_type": "execute_result"
    }
   ],
   "source": [
    "abs(-10)"
   ]
  },
  {
   "cell_type": "code",
   "execution_count": 25,
   "id": "bd350702",
   "metadata": {},
   "outputs": [
    {
     "data": {
      "text/plain": [
       "11"
      ]
     },
     "execution_count": 25,
     "metadata": {},
     "output_type": "execute_result"
    }
   ],
   "source": [
    "round(10.9)"
   ]
  },
  {
   "cell_type": "code",
   "execution_count": 26,
   "id": "6461e0b1",
   "metadata": {},
   "outputs": [
    {
     "data": {
      "text/plain": [
       "10"
      ]
     },
     "execution_count": 26,
     "metadata": {},
     "output_type": "execute_result"
    }
   ],
   "source": [
    "round(10.4)"
   ]
  },
  {
   "cell_type": "code",
   "execution_count": 27,
   "id": "92fb44c0",
   "metadata": {},
   "outputs": [
    {
     "data": {
      "text/plain": [
       "12"
      ]
     },
     "execution_count": 27,
     "metadata": {},
     "output_type": "execute_result"
    }
   ],
   "source": [
    "round(11.5)"
   ]
  },
  {
   "cell_type": "code",
   "execution_count": 28,
   "id": "a2509935",
   "metadata": {},
   "outputs": [
    {
     "data": {
      "text/plain": [
       "10"
      ]
     },
     "execution_count": 28,
     "metadata": {},
     "output_type": "execute_result"
    }
   ],
   "source": [
    "round(10.5)"
   ]
  },
  {
   "cell_type": "code",
   "execution_count": 30,
   "id": "8707f4a8",
   "metadata": {},
   "outputs": [
    {
     "data": {
      "text/plain": [
       "10.57"
      ]
     },
     "execution_count": 30,
     "metadata": {},
     "output_type": "execute_result"
    }
   ],
   "source": [
    "round(10.5675, 2)"
   ]
  },
  {
   "cell_type": "code",
   "execution_count": 31,
   "id": "b037264e",
   "metadata": {},
   "outputs": [
    {
     "data": {
      "text/plain": [
       "100"
      ]
     },
     "execution_count": 31,
     "metadata": {},
     "output_type": "execute_result"
    }
   ],
   "source": [
    "pow(10, 2)"
   ]
  },
  {
   "cell_type": "code",
   "execution_count": 32,
   "id": "bb93e200",
   "metadata": {},
   "outputs": [
    {
     "data": {
      "text/plain": [
       "125"
      ]
     },
     "execution_count": 32,
     "metadata": {},
     "output_type": "execute_result"
    }
   ],
   "source": [
    "pow(5, 3)"
   ]
  },
  {
   "cell_type": "code",
   "execution_count": 33,
   "id": "b89c15a0",
   "metadata": {},
   "outputs": [
    {
     "data": {
      "text/plain": [
       "(2, 0)"
      ]
     },
     "execution_count": 33,
     "metadata": {},
     "output_type": "execute_result"
    }
   ],
   "source": [
    "divmod(20, 10)"
   ]
  },
  {
   "cell_type": "code",
   "execution_count": 34,
   "id": "54e7fda5",
   "metadata": {},
   "outputs": [
    {
     "data": {
      "text/plain": [
       "(14, 2)"
      ]
     },
     "execution_count": 34,
     "metadata": {},
     "output_type": "execute_result"
    }
   ],
   "source": [
    "divmod(100, 7)"
   ]
  },
  {
   "cell_type": "code",
   "execution_count": 35,
   "id": "bd376498",
   "metadata": {},
   "outputs": [
    {
     "data": {
      "text/plain": [
       "'0b10100'"
      ]
     },
     "execution_count": 35,
     "metadata": {},
     "output_type": "execute_result"
    }
   ],
   "source": [
    "bin(20)"
   ]
  },
  {
   "cell_type": "code",
   "execution_count": 36,
   "id": "bdb355bc",
   "metadata": {},
   "outputs": [
    {
     "data": {
      "text/plain": [
       "'-0b1010'"
      ]
     },
     "execution_count": 36,
     "metadata": {},
     "output_type": "execute_result"
    }
   ],
   "source": [
    "bin(-10)"
   ]
  },
  {
   "cell_type": "code",
   "execution_count": 37,
   "id": "c5a56671",
   "metadata": {},
   "outputs": [
    {
     "ename": "TypeError",
     "evalue": "'float' object cannot be interpreted as an integer",
     "output_type": "error",
     "traceback": [
      "\u001b[1;31m---------------------------------------------------------------------------\u001b[0m",
      "\u001b[1;31mTypeError\u001b[0m                                 Traceback (most recent call last)",
      "\u001b[1;32m~\\AppData\\Local\\Temp\\ipykernel_21920\\3548164163.py\u001b[0m in \u001b[0;36m<module>\u001b[1;34m\u001b[0m\n\u001b[1;32m----> 1\u001b[1;33m \u001b[0mbin\u001b[0m\u001b[1;33m(\u001b[0m\u001b[1;36m10.5\u001b[0m\u001b[1;33m)\u001b[0m\u001b[1;33m\u001b[0m\u001b[1;33m\u001b[0m\u001b[0m\n\u001b[0m",
      "\u001b[1;31mTypeError\u001b[0m: 'float' object cannot be interpreted as an integer"
     ]
    }
   ],
   "source": [
    "bin(10.5)"
   ]
  },
  {
   "cell_type": "code",
   "execution_count": 38,
   "id": "df62587c",
   "metadata": {},
   "outputs": [
    {
     "data": {
      "text/plain": [
       "30"
      ]
     },
     "execution_count": 38,
     "metadata": {},
     "output_type": "execute_result"
    }
   ],
   "source": [
    "sum([10, 20])"
   ]
  },
  {
   "cell_type": "code",
   "execution_count": 39,
   "id": "6cbad09d",
   "metadata": {
    "scrolled": true
   },
   "outputs": [
    {
     "data": {
      "text/plain": [
       "60"
      ]
     },
     "execution_count": 39,
     "metadata": {},
     "output_type": "execute_result"
    }
   ],
   "source": [
    "sum((10,20,30))"
   ]
  },
  {
   "cell_type": "code",
   "execution_count": 40,
   "id": "c9bc2a75",
   "metadata": {},
   "outputs": [
    {
     "ename": "TypeError",
     "evalue": "'int' object is not iterable",
     "output_type": "error",
     "traceback": [
      "\u001b[1;31m---------------------------------------------------------------------------\u001b[0m",
      "\u001b[1;31mTypeError\u001b[0m                                 Traceback (most recent call last)",
      "\u001b[1;32m~\\AppData\\Local\\Temp\\ipykernel_21920\\614306509.py\u001b[0m in \u001b[0;36m<module>\u001b[1;34m\u001b[0m\n\u001b[1;32m----> 1\u001b[1;33m \u001b[0msum\u001b[0m\u001b[1;33m(\u001b[0m\u001b[1;36m10\u001b[0m\u001b[1;33m,\u001b[0m\u001b[1;36m20\u001b[0m\u001b[1;33m)\u001b[0m\u001b[1;33m\u001b[0m\u001b[1;33m\u001b[0m\u001b[0m\n\u001b[0m",
      "\u001b[1;31mTypeError\u001b[0m: 'int' object is not iterable"
     ]
    }
   ],
   "source": [
    "sum(10,20)"
   ]
  },
  {
   "cell_type": "code",
   "execution_count": 41,
   "id": "cec18327",
   "metadata": {},
   "outputs": [
    {
     "data": {
      "text/plain": [
       "6"
      ]
     },
     "execution_count": 41,
     "metadata": {},
     "output_type": "execute_result"
    }
   ],
   "source": [
    "sum({1,2,3})"
   ]
  },
  {
   "cell_type": "code",
   "execution_count": 44,
   "id": "99bd0e5a",
   "metadata": {},
   "outputs": [
    {
     "data": {
      "text/plain": [
       "range(0, 9)"
      ]
     },
     "execution_count": 44,
     "metadata": {},
     "output_type": "execute_result"
    }
   ],
   "source": [
    "range(9)"
   ]
  },
  {
   "cell_type": "code",
   "execution_count": 45,
   "id": "01181fd7",
   "metadata": {},
   "outputs": [
    {
     "data": {
      "text/plain": [
       "range(5, 20)"
      ]
     },
     "execution_count": 45,
     "metadata": {},
     "output_type": "execute_result"
    }
   ],
   "source": [
    "range(5, 20)"
   ]
  },
  {
   "cell_type": "code",
   "execution_count": 48,
   "id": "e7f847a5",
   "metadata": {},
   "outputs": [
    {
     "data": {
      "text/plain": [
       "range(10, 100, 5)"
      ]
     },
     "execution_count": 48,
     "metadata": {},
     "output_type": "execute_result"
    }
   ],
   "source": [
    "range(10, 100, 5)"
   ]
  },
  {
   "cell_type": "markdown",
   "id": "4b5c3ccc",
   "metadata": {},
   "source": [
    "## Container Functions"
   ]
  },
  {
   "cell_type": "markdown",
   "id": "9661868c",
   "metadata": {},
   "source": [
    "### all"
   ]
  },
  {
   "cell_type": "code",
   "execution_count": 49,
   "id": "af606174",
   "metadata": {},
   "outputs": [
    {
     "data": {
      "text/plain": [
       "True"
      ]
     },
     "execution_count": 49,
     "metadata": {},
     "output_type": "execute_result"
    }
   ],
   "source": [
    "all([1, 2, 3, 4, 5])"
   ]
  },
  {
   "cell_type": "code",
   "execution_count": 50,
   "id": "8624a027",
   "metadata": {},
   "outputs": [
    {
     "data": {
      "text/plain": [
       "False"
      ]
     },
     "execution_count": 50,
     "metadata": {},
     "output_type": "execute_result"
    }
   ],
   "source": [
    "all((1, 2, 3, 4, 5, 0))"
   ]
  },
  {
   "cell_type": "code",
   "execution_count": 51,
   "id": "51bfa104",
   "metadata": {},
   "outputs": [
    {
     "data": {
      "text/plain": [
       "True"
      ]
     },
     "execution_count": 51,
     "metadata": {},
     "output_type": "execute_result"
    }
   ],
   "source": [
    "all(['True', 'False'])"
   ]
  },
  {
   "cell_type": "code",
   "execution_count": 52,
   "id": "aae595e8",
   "metadata": {},
   "outputs": [
    {
     "data": {
      "text/plain": [
       "False"
      ]
     },
     "execution_count": 52,
     "metadata": {},
     "output_type": "execute_result"
    }
   ],
   "source": [
    "all([True, False])"
   ]
  },
  {
   "cell_type": "markdown",
   "id": "d108de3f",
   "metadata": {},
   "source": [
    "### any"
   ]
  },
  {
   "cell_type": "code",
   "execution_count": 53,
   "id": "79b2e044",
   "metadata": {},
   "outputs": [
    {
     "data": {
      "text/plain": [
       "True"
      ]
     },
     "execution_count": 53,
     "metadata": {},
     "output_type": "execute_result"
    }
   ],
   "source": [
    "any([True, True])"
   ]
  },
  {
   "cell_type": "code",
   "execution_count": 54,
   "id": "15dded2a",
   "metadata": {},
   "outputs": [
    {
     "data": {
      "text/plain": [
       "True"
      ]
     },
     "execution_count": 54,
     "metadata": {},
     "output_type": "execute_result"
    }
   ],
   "source": [
    "any([True, True, False])"
   ]
  },
  {
   "cell_type": "code",
   "execution_count": 55,
   "id": "ee545cf2",
   "metadata": {},
   "outputs": [
    {
     "data": {
      "text/plain": [
       "False"
      ]
     },
     "execution_count": 55,
     "metadata": {},
     "output_type": "execute_result"
    }
   ],
   "source": [
    "any([False, False])"
   ]
  },
  {
   "cell_type": "code",
   "execution_count": 56,
   "id": "20c1394f",
   "metadata": {},
   "outputs": [
    {
     "data": {
      "text/plain": [
       "True"
      ]
     },
     "execution_count": 56,
     "metadata": {},
     "output_type": "execute_result"
    }
   ],
   "source": [
    "any((1,2,3,0))"
   ]
  },
  {
   "cell_type": "code",
   "execution_count": 57,
   "id": "1282363f",
   "metadata": {},
   "outputs": [
    {
     "data": {
      "text/plain": [
       "True"
      ]
     },
     "execution_count": 57,
     "metadata": {},
     "output_type": "execute_result"
    }
   ],
   "source": [
    "any((0,0,0,False, '0'))"
   ]
  },
  {
   "cell_type": "code",
   "execution_count": 58,
   "id": "a5531784",
   "metadata": {},
   "outputs": [
    {
     "data": {
      "text/plain": [
       "True"
      ]
     },
     "execution_count": 58,
     "metadata": {},
     "output_type": "execute_result"
    }
   ],
   "source": [
    "any((0,0,0, bool('False')))"
   ]
  },
  {
   "cell_type": "code",
   "execution_count": 59,
   "id": "0020e646",
   "metadata": {},
   "outputs": [
    {
     "data": {
      "text/plain": [
       "True"
      ]
     },
     "execution_count": 59,
     "metadata": {},
     "output_type": "execute_result"
    }
   ],
   "source": [
    "bool('False')"
   ]
  },
  {
   "cell_type": "code",
   "execution_count": 60,
   "id": "d1f3bfb1",
   "metadata": {},
   "outputs": [
    {
     "data": {
      "text/plain": [
       "False"
      ]
     },
     "execution_count": 60,
     "metadata": {},
     "output_type": "execute_result"
    }
   ],
   "source": [
    "bool(None)"
   ]
  },
  {
   "cell_type": "code",
   "execution_count": null,
   "id": "4175a897",
   "metadata": {},
   "outputs": [],
   "source": []
  },
  {
   "cell_type": "markdown",
   "id": "f3045602",
   "metadata": {},
   "source": [
    "### enumerate"
   ]
  },
  {
   "cell_type": "code",
   "execution_count": 61,
   "id": "4b536ba3",
   "metadata": {},
   "outputs": [
    {
     "name": "stdout",
     "output_type": "stream",
     "text": [
      "<enumerate object at 0x000002289258CB40>\n",
      "<class 'enumerate'>\n"
     ]
    }
   ],
   "source": [
    "l1 = [10, 20, 30, 40, 50]\n",
    "enum = enumerate(l1)\n",
    "print(enum)\n",
    "print(type(enum))"
   ]
  },
  {
   "cell_type": "code",
   "execution_count": 62,
   "id": "90aa5fad",
   "metadata": {},
   "outputs": [
    {
     "data": {
      "text/plain": [
       "{0: 10, 1: 20, 2: 30, 3: 40, 4: 50}"
      ]
     },
     "execution_count": 62,
     "metadata": {},
     "output_type": "execute_result"
    }
   ],
   "source": [
    "dict(enum)"
   ]
  },
  {
   "cell_type": "code",
   "execution_count": 74,
   "id": "b3e1a4d5",
   "metadata": {},
   "outputs": [
    {
     "name": "stdout",
     "output_type": "stream",
     "text": [
      "<enumerate object at 0x000002289258C080>\n",
      "<class 'enumerate'>\n"
     ]
    }
   ],
   "source": [
    "l1 = {10, 20, 30, 40, 50}\n",
    "enum = enumerate(l1)\n",
    "print(enum)\n",
    "print(type(enum))"
   ]
  },
  {
   "cell_type": "code",
   "execution_count": 75,
   "id": "41631e83",
   "metadata": {},
   "outputs": [
    {
     "data": {
      "text/plain": [
       "[(0, 50), (1, 20), (2, 40), (3, 10), (4, 30)]"
      ]
     },
     "execution_count": 75,
     "metadata": {},
     "output_type": "execute_result"
    }
   ],
   "source": [
    "list(enum)"
   ]
  },
  {
   "cell_type": "markdown",
   "id": "bc1e2258",
   "metadata": {},
   "source": [
    "### filter"
   ]
  },
  {
   "cell_type": "code",
   "execution_count": 76,
   "id": "b634f423",
   "metadata": {},
   "outputs": [],
   "source": [
    "# iterator object\n",
    "numbers = [1, 2, 3, 4, 5, 6, 7, 8, 9, 10]"
   ]
  },
  {
   "cell_type": "code",
   "execution_count": 77,
   "id": "4c2c34b5",
   "metadata": {},
   "outputs": [],
   "source": [
    "# define a function\n",
    "def check_even(number):\n",
    "    if number % 2 == 0:\n",
    "          return True  \n",
    "    return False"
   ]
  },
  {
   "cell_type": "code",
   "execution_count": 78,
   "id": "5bc4febf",
   "metadata": {},
   "outputs": [
    {
     "name": "stdout",
     "output_type": "stream",
     "text": [
      "<class 'filter'>\n"
     ]
    },
    {
     "data": {
      "text/plain": [
       "<filter at 0x2289247dac0>"
      ]
     },
     "execution_count": 78,
     "metadata": {},
     "output_type": "execute_result"
    }
   ],
   "source": [
    "# problem statement\n",
    "# Extract even elements from the numbers list\n",
    "\n",
    "even_numbers_iter = filter(check_even, numbers)\n",
    "print(type(even_numbers_iter))\n",
    "even_numbers_iter"
   ]
  },
  {
   "cell_type": "code",
   "execution_count": 79,
   "id": "0e7e61b7",
   "metadata": {},
   "outputs": [
    {
     "name": "stdout",
     "output_type": "stream",
     "text": [
      "[2, 4, 6, 8, 10]\n"
     ]
    }
   ],
   "source": [
    "# converting to list\n",
    "even_numbers = list(even_numbers_iter)\n",
    "\n",
    "print(even_numbers)"
   ]
  },
  {
   "cell_type": "code",
   "execution_count": null,
   "id": "e40f3a3c",
   "metadata": {},
   "outputs": [],
   "source": []
  },
  {
   "cell_type": "code",
   "execution_count": null,
   "id": "e3bc5d62",
   "metadata": {},
   "outputs": [],
   "source": [
    "# filter the words from a list that don't start with the letter 's' \n",
    "seq=['soup','salad','food','great']\n",
    "\n",
    "\n",
    "\n",
    "\n",
    "\n",
    "\n",
    "\n",
    "\n",
    "\n",
    "# list(filter(lambda x:x[0]!= 's', seq))\n",
    "def eval_start(str1):\n",
    "#     if str1[0] != 's':\n",
    "    if not str1.startswith('s'):\n",
    "        return True\n",
    "    return False\n",
    "\n",
    "str_iter = filter(eval_start, seq)\n",
    "\n",
    "list(str_iter)\n"
   ]
  },
  {
   "cell_type": "code",
   "execution_count": null,
   "id": "87621dea",
   "metadata": {},
   "outputs": [],
   "source": [
    "import math\n",
    "# sample input\n",
    "l1 = [100, 25, 16, 15, 4, 9, 20, 'ABC', 9.5, 200]\n",
    "# sample output\n",
    "# [10, 5, 4, 2, 3]\n"
   ]
  },
  {
   "cell_type": "markdown",
   "id": "a3f134ec",
   "metadata": {},
   "source": [
    "### map"
   ]
  },
  {
   "cell_type": "code",
   "execution_count": null,
   "id": "da7943e6",
   "metadata": {},
   "outputs": [],
   "source": [
    "def square(b):\n",
    "    return b ** 2\n",
    "\n",
    "b=[2, 3, 4]\n",
    "\n",
    "# map(fun,iterable)\n",
    "l1 = list(map(square, b))\n",
    "print(l1)"
   ]
  },
  {
   "cell_type": "markdown",
   "id": "f76c1fd1",
   "metadata": {},
   "source": [
    "### reversed"
   ]
  },
  {
   "cell_type": "code",
   "execution_count": null,
   "id": "2b0acac4",
   "metadata": {},
   "outputs": [],
   "source": [
    "str1 = 'python'\n",
    "print(list(reversed(str1)))"
   ]
  },
  {
   "cell_type": "code",
   "execution_count": null,
   "id": "ab1eab32",
   "metadata": {},
   "outputs": [],
   "source": [
    "l1 = [10, 20, 30, 40, 50]\n",
    "print(list(reversed(l1)))"
   ]
  },
  {
   "cell_type": "code",
   "execution_count": null,
   "id": "5f659c71",
   "metadata": {},
   "outputs": [],
   "source": [
    "t1 = (10, 20, 30, 40, 50)\n",
    "print(list(reversed(l1)))"
   ]
  },
  {
   "cell_type": "code",
   "execution_count": null,
   "id": "0b6b2eac",
   "metadata": {},
   "outputs": [],
   "source": [
    "s1 = {10, 20, 30, 40, 50}\n",
    "print(list(reversed(s1)))"
   ]
  },
  {
   "cell_type": "code",
   "execution_count": null,
   "id": "6f22b252",
   "metadata": {},
   "outputs": [],
   "source": [
    "d1 = {10:'ten', 20:'twenty', 30:'thirty', 40:'fourty', 50:'fifty'}\n",
    "print(list(reversed(d1)))"
   ]
  },
  {
   "cell_type": "markdown",
   "id": "204a7136",
   "metadata": {},
   "source": [
    "### sorted"
   ]
  },
  {
   "cell_type": "code",
   "execution_count": null,
   "id": "954157c4",
   "metadata": {},
   "outputs": [],
   "source": [
    "a = sorted([10, 2, 30, 4, 5])\n",
    "print(a)"
   ]
  },
  {
   "cell_type": "code",
   "execution_count": null,
   "id": "7ff2fdeb",
   "metadata": {},
   "outputs": [],
   "source": [
    "a = sorted((10, 2, 30, 4, 5))\n",
    "print(a)"
   ]
  },
  {
   "cell_type": "code",
   "execution_count": null,
   "id": "c2942e3c",
   "metadata": {},
   "outputs": [],
   "source": [
    "a = sorted({10, 2, 30, 4, 5})\n",
    "print(a)"
   ]
  },
  {
   "cell_type": "code",
   "execution_count": null,
   "id": "c6403a0a",
   "metadata": {},
   "outputs": [],
   "source": [
    "a = sorted('python')\n",
    "print(a)"
   ]
  },
  {
   "cell_type": "markdown",
   "id": "0a9728ef",
   "metadata": {},
   "source": [
    "### zip"
   ]
  },
  {
   "cell_type": "code",
   "execution_count": null,
   "id": "4f17345b",
   "metadata": {},
   "outputs": [],
   "source": [
    "languages = ['Java', 'Python', 'JavaScript']\n",
    "versions = [14, 3, 6]\n",
    "result = zip(languages, versions)\n",
    "print(type(result))\n",
    "\n",
    "print(list(result))\n",
    "print(dict(zip(languages, versions)))"
   ]
  },
  {
   "cell_type": "code",
   "execution_count": null,
   "id": "9c4c1028",
   "metadata": {},
   "outputs": [],
   "source": [
    "l1 = [1, 2, 3, 4, 5]\n",
    "l2 = ['A', 'B', 'C']\n",
    "\n",
    "l3 = l2 + [None] * (5 -(len(l2)))\n",
    "\n",
    "dict(zip(l1, l3))"
   ]
  },
  {
   "cell_type": "code",
   "execution_count": null,
   "id": "428ff891",
   "metadata": {},
   "outputs": [],
   "source": [
    "l2"
   ]
  },
  {
   "cell_type": "code",
   "execution_count": null,
   "id": "ce0efdb5",
   "metadata": {},
   "outputs": [],
   "source": [
    "[None] * 3"
   ]
  }
 ],
 "metadata": {
  "kernelspec": {
   "display_name": "Python 3 (ipykernel)",
   "language": "python",
   "name": "python3"
  },
  "language_info": {
   "codemirror_mode": {
    "name": "ipython",
    "version": 3
   },
   "file_extension": ".py",
   "mimetype": "text/x-python",
   "name": "python",
   "nbconvert_exporter": "python",
   "pygments_lexer": "ipython3",
   "version": "3.9.13"
  }
 },
 "nbformat": 4,
 "nbformat_minor": 5
}
