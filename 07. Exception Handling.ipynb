{
 "cells": [
  {
   "cell_type": "code",
   "execution_count": 1,
   "id": "b6aa8058",
   "metadata": {},
   "outputs": [
    {
     "ename": "SyntaxError",
     "evalue": "unmatched ')' (2333290935.py, line 3)",
     "output_type": "error",
     "traceback": [
      "\u001b[1;36m  File \u001b[1;32m\"C:\\Users\\dbhabad\\AppData\\Local\\Temp\\ipykernel_16804\\2333290935.py\"\u001b[1;36m, line \u001b[1;32m3\u001b[0m\n\u001b[1;33m    print(a))\u001b[0m\n\u001b[1;37m            ^\u001b[0m\n\u001b[1;31mSyntaxError\u001b[0m\u001b[1;31m:\u001b[0m unmatched ')'\n"
     ]
    }
   ],
   "source": [
    "# syntax error\n",
    "a  = 10 + 20\n",
    "print(a))"
   ]
  },
  {
   "cell_type": "code",
   "execution_count": 3,
   "id": "50919a03",
   "metadata": {},
   "outputs": [
    {
     "name": "stdout",
     "output_type": "stream",
     "text": [
      "Enter a number: 10\n",
      "Enter a number: 0\n"
     ]
    },
    {
     "ename": "ZeroDivisionError",
     "evalue": "division by zero",
     "output_type": "error",
     "traceback": [
      "\u001b[1;31m---------------------------------------------------------------------------\u001b[0m",
      "\u001b[1;31mZeroDivisionError\u001b[0m                         Traceback (most recent call last)",
      "\u001b[1;32m~\\AppData\\Local\\Temp\\ipykernel_16804\\1889608491.py\u001b[0m in \u001b[0;36m<module>\u001b[1;34m\u001b[0m\n\u001b[0;32m      2\u001b[0m \u001b[0mx\u001b[0m \u001b[1;33m=\u001b[0m \u001b[0mint\u001b[0m\u001b[1;33m(\u001b[0m\u001b[0minput\u001b[0m\u001b[1;33m(\u001b[0m\u001b[1;34m'Enter a number: '\u001b[0m\u001b[1;33m)\u001b[0m\u001b[1;33m)\u001b[0m\u001b[1;33m\u001b[0m\u001b[1;33m\u001b[0m\u001b[0m\n\u001b[0;32m      3\u001b[0m \u001b[0my\u001b[0m \u001b[1;33m=\u001b[0m \u001b[0mint\u001b[0m\u001b[1;33m(\u001b[0m\u001b[0minput\u001b[0m\u001b[1;33m(\u001b[0m\u001b[1;34m'Enter a number: '\u001b[0m\u001b[1;33m)\u001b[0m\u001b[1;33m)\u001b[0m\u001b[1;33m\u001b[0m\u001b[1;33m\u001b[0m\u001b[0m\n\u001b[1;32m----> 4\u001b[1;33m \u001b[0mz\u001b[0m \u001b[1;33m=\u001b[0m \u001b[0mx\u001b[0m\u001b[1;33m/\u001b[0m\u001b[0my\u001b[0m\u001b[1;33m\u001b[0m\u001b[1;33m\u001b[0m\u001b[0m\n\u001b[0m\u001b[0;32m      5\u001b[0m \u001b[0mprint\u001b[0m\u001b[1;33m(\u001b[0m\u001b[0mz\u001b[0m\u001b[1;33m)\u001b[0m\u001b[1;33m\u001b[0m\u001b[1;33m\u001b[0m\u001b[0m\n",
      "\u001b[1;31mZeroDivisionError\u001b[0m: division by zero"
     ]
    }
   ],
   "source": [
    "# Exception\n",
    "x = int(input('Enter a number: '))\n",
    "y = int(input('Enter a number: '))\n",
    "z = x/y\n",
    "print(z)"
   ]
  },
  {
   "cell_type": "code",
   "execution_count": 6,
   "id": "bb6983b3",
   "metadata": {},
   "outputs": [
    {
     "name": "stdout",
     "output_type": "stream",
     "text": [
      "Enter a number: 10\n",
      "Enter a number: 0\n",
      "Zero division Error..!!\n",
      "Done..!!\n"
     ]
    }
   ],
   "source": [
    "# simple try..except block\n",
    "try:\n",
    "    x = int(input('Enter a number: '))\n",
    "    y = int(input('Enter a number: '))\n",
    "    z = x/y\n",
    "    print(z)\n",
    "except:\n",
    "    print('Zero division Error..!!')\n",
    "print('Done..!!')"
   ]
  },
  {
   "cell_type": "code",
   "execution_count": 15,
   "id": "670d1744",
   "metadata": {},
   "outputs": [
    {
     "name": "stdout",
     "output_type": "stream",
     "text": [
      "Enter a number: 10\n",
      "Enter a number: 5\n",
      "2.0\n",
      "Type Mismatch\n",
      "Done..!!\n"
     ]
    }
   ],
   "source": [
    "# different exception\n",
    "try:\n",
    "    x = int(input('Enter a number: '))\n",
    "    y = int(input('Enter a number: '))\n",
    "    z = x/y\n",
    "    print(z)\n",
    "    c = 10 + 'a' # this exception will not be handled\n",
    "    print(c)\n",
    "except ArithmeticError:\n",
    "    print('Zero division Error..!!')\n",
    "    \n",
    "print('Done..!!')"
   ]
  },
  {
   "cell_type": "code",
   "execution_count": 17,
   "id": "5d21045b",
   "metadata": {},
   "outputs": [
    {
     "name": "stdout",
     "output_type": "stream",
     "text": [
      "Enter a number: 10\n",
      "Enter a number: 5\n",
      "2.0\n",
      "Invalid Index..!!\n",
      "Done..!!\n"
     ]
    }
   ],
   "source": [
    "# multiple except blocks\n",
    "try:\n",
    "    x = int(input('Enter a number: '))\n",
    "    y = int(input('Enter a number: '))\n",
    "    z = x/y\n",
    "    print(z)\n",
    "    \n",
    "    l1 = []\n",
    "    print(l1[5])\n",
    "    \n",
    "    c = 10 + 'a'\n",
    "    print(c)\n",
    "except ArithmeticError:\n",
    "    print('Zero division Error..!!')\n",
    "except TypeError:\n",
    "    print('Type Mismatch')\n",
    "except IndexError:\n",
    "    print('Invalid Index..!!')\n",
    "except Exception:\n",
    "    print('Something went wrong..!!')\n",
    "print('Done..!!')"
   ]
  },
  {
   "cell_type": "code",
   "execution_count": 19,
   "id": "9fa1e48a",
   "metadata": {},
   "outputs": [
    {
     "name": "stdout",
     "output_type": "stream",
     "text": [
      "Enter a number: 10\n",
      "Enter a number: 0\n",
      "Zero division Error..!!\n",
      "This is printed from finally block\n"
     ]
    }
   ],
   "source": [
    "# finally block\n",
    "try:\n",
    "    x = int(input('Enter a number: '))\n",
    "    y = int(input('Enter a number: '))\n",
    "    z = x/y\n",
    "    print(z)\n",
    "except ArithmeticError:\n",
    "    print('Zero division Error..!!')\n",
    "finally:\n",
    "    print('This is printed from finally block')"
   ]
  },
  {
   "cell_type": "code",
   "execution_count": 21,
   "id": "d7f12fc2",
   "metadata": {},
   "outputs": [
    {
     "name": "stdout",
     "output_type": "stream",
     "text": [
      "Enter a number: 10\n",
      "Enter a number: 0\n",
      "Zero division Error..!!\n",
      "This is printed from finally block\n"
     ]
    }
   ],
   "source": [
    "# else block\n",
    "try:\n",
    "    x = int(input('Enter a number: '))\n",
    "    y = int(input('Enter a number: '))\n",
    "    z = x/y\n",
    "    print(z)\n",
    "except ArithmeticError:\n",
    "    print('Zero division Error..!!')\n",
    "else:\n",
    "    print('Process completed successfully..!!')\n",
    "finally:\n",
    "    print('This is printed from finally block')"
   ]
  },
  {
   "cell_type": "code",
   "execution_count": 24,
   "id": "c94cc817",
   "metadata": {},
   "outputs": [
    {
     "name": "stdout",
     "output_type": "stream",
     "text": [
      "Enter an age of emp: 10\n",
      "Something went wrong..!!\n",
      "Invalid age\n"
     ]
    }
   ],
   "source": [
    "# explicitly raising an exception (raise)\n",
    "try:\n",
    "    age = int(input(\"Enter an age of emp: \"))\n",
    "    if age < 18 or age > 60:\n",
    "        raise Exception(\"Invalid age\")\n",
    "    print('Age of the emp is: ', age)\n",
    "except Exception as e:\n",
    "    print('Something went wrong..!!')\n",
    "    print(e)"
   ]
  },
  {
   "cell_type": "code",
   "execution_count": 26,
   "id": "91340983",
   "metadata": {},
   "outputs": [
    {
     "name": "stdout",
     "output_type": "stream",
     "text": [
      "Enter sal of emp: -1000\n",
      "Something went wrong..!!\n",
      "\n"
     ]
    }
   ],
   "source": [
    "# explicitly raising an exception (assert)\n",
    "try:\n",
    "    sal = int(input(\"Enter sal of emp: \"))\n",
    "    assert sal > 0\n",
    "    print('Salary of the emp is: ', sal)\n",
    "except AssertionError:\n",
    "    print('Something went wrong..!!')"
   ]
  },
  {
   "cell_type": "code",
   "execution_count": null,
   "id": "b8acac75",
   "metadata": {},
   "outputs": [],
   "source": []
  },
  {
   "cell_type": "code",
   "execution_count": null,
   "id": "aff1dca8",
   "metadata": {},
   "outputs": [],
   "source": []
  }
 ],
 "metadata": {
  "kernelspec": {
   "display_name": "Python 3 (ipykernel)",
   "language": "python",
   "name": "python3"
  },
  "language_info": {
   "codemirror_mode": {
    "name": "ipython",
    "version": 3
   },
   "file_extension": ".py",
   "mimetype": "text/x-python",
   "name": "python",
   "nbconvert_exporter": "python",
   "pygments_lexer": "ipython3",
   "version": "3.9.13"
  }
 },
 "nbformat": 4,
 "nbformat_minor": 5
}
