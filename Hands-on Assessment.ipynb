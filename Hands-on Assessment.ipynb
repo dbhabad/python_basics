{
 "cells": [
  {
   "cell_type": "code",
   "execution_count": null,
   "id": "20f850fe",
   "metadata": {},
   "outputs": [],
   "source": [
    "# Q1. Write a function that accepts an integer number as argument and keeps on finding \n",
    "    # the sum of its digits till it has sum brought down to single digit in range 1-9. \n",
    "    # If the number entered is negative, print the resulting number also as negative, \n",
    "    # otherwise a positive single digit number.\n",
    "\n",
    "# Sample Input: 567\n",
    "# Expected Output: 9\n",
    "\n",
    "--your code here--\n"
   ]
  },
  {
   "cell_type": "code",
   "execution_count": null,
   "id": "24664b18",
   "metadata": {},
   "outputs": [],
   "source": [
    "# Q2. Accept a sentance as a string and print the count of words having more than 7 characters\n",
    "\n",
    "# sample input: 'Python is an object oriented programming language'\n",
    "# expected output: 3\n",
    "\n",
    "-- your code here --\n"
   ]
  },
  {
   "cell_type": "code",
   "execution_count": null,
   "id": "723461ff",
   "metadata": {},
   "outputs": [],
   "source": [
    "# Q3. Consider a below dictionary and give department wise summation of a salary of employees.\n",
    "\n",
    "emp_data = {'Audit': [('Bob', 15000),('John', 20000)], \n",
    "            'Consulting': [('Rajiv', 12000), ('Raghu', 14000)], \n",
    "            'Tax':[('Ritu', 12000), ('Tina', 16000)]}\n",
    "\n",
    "# Expected Output : {‘Audit’: 35000, ‘Consulting’: 26000, ‘Tax’: 28000}\n",
    "\n",
    "-- your code here --\n"
   ]
  },
  {
   "cell_type": "code",
   "execution_count": null,
   "id": "0f38ff01",
   "metadata": {},
   "outputs": [],
   "source": [
    "# Q4. Define a python function to accept one number as an argument.\n",
    "    # function should return True if given number and reverse of it is even \n",
    "    # function should return True if given number and reverse of it is odd\n",
    "    # function should return false otherwise\n",
    "\n",
    "# sample input1: 1234\n",
    "# expected output1: False\n",
    "\n",
    "# sample input2: 234\n",
    "# expected output2: True\n",
    "\n",
    "-- your code here --\n"
   ]
  }
 ],
 "metadata": {
  "kernelspec": {
   "display_name": "Python 3 (ipykernel)",
   "language": "python",
   "name": "python3"
  },
  "language_info": {
   "codemirror_mode": {
    "name": "ipython",
    "version": 3
   },
   "file_extension": ".py",
   "mimetype": "text/x-python",
   "name": "python",
   "nbconvert_exporter": "python",
   "pygments_lexer": "ipython3",
   "version": "3.9.13"
  }
 },
 "nbformat": 4,
 "nbformat_minor": 5
}
