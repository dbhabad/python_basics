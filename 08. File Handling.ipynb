{
 "cells": [
  {
   "cell_type": "markdown",
   "id": "13ac38eb",
   "metadata": {},
   "source": [
    "# Directory Operations"
   ]
  },
  {
   "cell_type": "code",
   "execution_count": 1,
   "id": "d56ae590",
   "metadata": {},
   "outputs": [],
   "source": [
    "import os"
   ]
  },
  {
   "cell_type": "code",
   "execution_count": 2,
   "id": "f4726c6b",
   "metadata": {},
   "outputs": [
    {
     "data": {
      "text/plain": [
       "'C:\\\\Users\\\\dbhabad\\\\Python_training'"
      ]
     },
     "execution_count": 2,
     "metadata": {},
     "output_type": "execute_result"
    }
   ],
   "source": [
    "os.getcwd()"
   ]
  },
  {
   "cell_type": "code",
   "execution_count": 6,
   "id": "8df8ae20",
   "metadata": {},
   "outputs": [
    {
     "ename": "FileExistsError",
     "evalue": "[WinError 183] Cannot create a file when that file already exists: 'test'",
     "output_type": "error",
     "traceback": [
      "\u001b[1;31m---------------------------------------------------------------------------\u001b[0m",
      "\u001b[1;31mFileExistsError\u001b[0m                           Traceback (most recent call last)",
      "\u001b[1;32m~\\AppData\\Local\\Temp\\ipykernel_10340\\3599297036.py\u001b[0m in \u001b[0;36m<module>\u001b[1;34m\u001b[0m\n\u001b[1;32m----> 1\u001b[1;33m \u001b[0mos\u001b[0m\u001b[1;33m.\u001b[0m\u001b[0mmkdir\u001b[0m\u001b[1;33m(\u001b[0m\u001b[1;34m'test'\u001b[0m\u001b[1;33m)\u001b[0m\u001b[1;33m\u001b[0m\u001b[1;33m\u001b[0m\u001b[0m\n\u001b[0m",
      "\u001b[1;31mFileExistsError\u001b[0m: [WinError 183] Cannot create a file when that file already exists: 'test'"
     ]
    }
   ],
   "source": [
    "os.mkdir('test')"
   ]
  },
  {
   "cell_type": "code",
   "execution_count": 5,
   "id": "405613ea",
   "metadata": {},
   "outputs": [],
   "source": [
    "os.mkdir(r'C:\\Users\\dbhabad\\test')"
   ]
  },
  {
   "cell_type": "code",
   "execution_count": 7,
   "id": "3cc1eb0c",
   "metadata": {},
   "outputs": [
    {
     "name": "stdout",
     "output_type": "stream",
     "text": [
      "C:\\Users\\dbhabad\\Python_training\n",
      "C:\\Users\\dbhabad\\Python_training\\test\n"
     ]
    }
   ],
   "source": [
    "print(os.getcwd())\n",
    "os.chdir('test')\n",
    "print(os.getcwd())"
   ]
  },
  {
   "cell_type": "code",
   "execution_count": 8,
   "id": "4c639f39",
   "metadata": {},
   "outputs": [
    {
     "ename": "FileNotFoundError",
     "evalue": "[WinError 2] The system cannot find the file specified: 'test'",
     "output_type": "error",
     "traceback": [
      "\u001b[1;31m---------------------------------------------------------------------------\u001b[0m",
      "\u001b[1;31mFileNotFoundError\u001b[0m                         Traceback (most recent call last)",
      "\u001b[1;32m~\\AppData\\Local\\Temp\\ipykernel_10340\\2188839292.py\u001b[0m in \u001b[0;36m<module>\u001b[1;34m\u001b[0m\n\u001b[1;32m----> 1\u001b[1;33m \u001b[0mos\u001b[0m\u001b[1;33m.\u001b[0m\u001b[0mrmdir\u001b[0m\u001b[1;33m(\u001b[0m\u001b[1;34m'test'\u001b[0m\u001b[1;33m)\u001b[0m\u001b[1;33m\u001b[0m\u001b[1;33m\u001b[0m\u001b[0m\n\u001b[0m",
      "\u001b[1;31mFileNotFoundError\u001b[0m: [WinError 2] The system cannot find the file specified: 'test'"
     ]
    }
   ],
   "source": [
    "os.rmdir('test')"
   ]
  },
  {
   "cell_type": "code",
   "execution_count": 9,
   "id": "eb19d4f0",
   "metadata": {},
   "outputs": [
    {
     "ename": "PermissionError",
     "evalue": "[WinError 32] The process cannot access the file because it is being used by another process: 'C:\\\\Users\\\\dbhabad\\\\Python_training\\\\test'",
     "output_type": "error",
     "traceback": [
      "\u001b[1;31m---------------------------------------------------------------------------\u001b[0m",
      "\u001b[1;31mPermissionError\u001b[0m                           Traceback (most recent call last)",
      "\u001b[1;32m~\\AppData\\Local\\Temp\\ipykernel_10340\\1381010829.py\u001b[0m in \u001b[0;36m<module>\u001b[1;34m\u001b[0m\n\u001b[1;32m----> 1\u001b[1;33m \u001b[0mos\u001b[0m\u001b[1;33m.\u001b[0m\u001b[0mrmdir\u001b[0m\u001b[1;33m(\u001b[0m\u001b[1;34mr'C:\\Users\\dbhabad\\Python_training\\test'\u001b[0m\u001b[1;33m)\u001b[0m\u001b[1;33m\u001b[0m\u001b[1;33m\u001b[0m\u001b[0m\n\u001b[0m",
      "\u001b[1;31mPermissionError\u001b[0m: [WinError 32] The process cannot access the file because it is being used by another process: 'C:\\\\Users\\\\dbhabad\\\\Python_training\\\\test'"
     ]
    }
   ],
   "source": [
    "os.rmdir(r'C:\\Users\\dbhabad\\Python_training\\test')"
   ]
  },
  {
   "cell_type": "code",
   "execution_count": 10,
   "id": "7c11342b",
   "metadata": {},
   "outputs": [
    {
     "ename": "OSError",
     "evalue": "[WinError 145] The directory is not empty: 'C:\\\\Users\\\\dbhabad\\\\FY23 P10 AA'",
     "output_type": "error",
     "traceback": [
      "\u001b[1;31m---------------------------------------------------------------------------\u001b[0m",
      "\u001b[1;31mOSError\u001b[0m                                   Traceback (most recent call last)",
      "\u001b[1;32m~\\AppData\\Local\\Temp\\ipykernel_10340\\1128145516.py\u001b[0m in \u001b[0;36m<module>\u001b[1;34m\u001b[0m\n\u001b[1;32m----> 1\u001b[1;33m \u001b[0mos\u001b[0m\u001b[1;33m.\u001b[0m\u001b[0mrmdir\u001b[0m\u001b[1;33m(\u001b[0m\u001b[1;34mr'C:\\Users\\dbhabad\\FY23 P10 AA'\u001b[0m\u001b[1;33m)\u001b[0m\u001b[1;33m\u001b[0m\u001b[1;33m\u001b[0m\u001b[0m\n\u001b[0m",
      "\u001b[1;31mOSError\u001b[0m: [WinError 145] The directory is not empty: 'C:\\\\Users\\\\dbhabad\\\\FY23 P10 AA'"
     ]
    }
   ],
   "source": [
    "os.rmdir(r'C:\\Users\\dbhabad\\FY23 P10 AA')"
   ]
  },
  {
   "cell_type": "code",
   "execution_count": 11,
   "id": "1ab6c02f",
   "metadata": {},
   "outputs": [
    {
     "name": "stdout",
     "output_type": "stream",
     "text": [
      "C:\\Users\\dbhabad\\Python_training\n"
     ]
    }
   ],
   "source": [
    "os.chdir(r'C:\\Users\\dbhabad\\Python_training')\n",
    "print(os.getcwd())"
   ]
  },
  {
   "cell_type": "code",
   "execution_count": 14,
   "id": "52c5e697",
   "metadata": {},
   "outputs": [],
   "source": [
    "os.rmdir(r'C:\\Users\\dbhabad\\test')"
   ]
  },
  {
   "cell_type": "code",
   "execution_count": 16,
   "id": "4b584849",
   "metadata": {},
   "outputs": [
    {
     "data": {
      "text/plain": [
       "['.conda',\n",
       " '.condarc',\n",
       " '.continuum',\n",
       " '.dotnet',\n",
       " '.ipynb_checkpoints',\n",
       " '.ipython',\n",
       " '.jupyter',\n",
       " '.ms-ad',\n",
       " '3D Objects',\n",
       " 'Anaconda3',\n",
       " 'AppData',\n",
       " 'Application Data',\n",
       " 'Contacts',\n",
       " 'Cookies',\n",
       " 'Desktop',\n",
       " 'Documents',\n",
       " 'Downloads',\n",
       " 'Favorites',\n",
       " 'FY23 P10 AA',\n",
       " 'FY23 P9 Analyst',\n",
       " 'java_error_in_pycharm64.hprof',\n",
       " 'Links',\n",
       " 'Local Settings',\n",
       " 'Lock Workstation.lnk',\n",
       " 'Master_Code',\n",
       " 'Music',\n",
       " 'My Documents',\n",
       " 'My_python_code',\n",
       " 'NetHood',\n",
       " 'NTUSER.DAT',\n",
       " 'ntuser.dat.LOG1',\n",
       " 'ntuser.dat.LOG2',\n",
       " 'NTUSER.DAT{d8d7cf80-b6b5-11ec-9d87-1a2b3c4d0109}.TM.blf',\n",
       " 'NTUSER.DAT{d8d7cf80-b6b5-11ec-9d87-1a2b3c4d0109}.TMContainer00000000000000000001.regtrans-ms',\n",
       " 'NTUSER.DAT{d8d7cf80-b6b5-11ec-9d87-1a2b3c4d0109}.TMContainer00000000000000000002.regtrans-ms',\n",
       " 'ntuser.ini',\n",
       " 'OneDrive',\n",
       " 'Oracle',\n",
       " 'Outlook',\n",
       " 'Pictures',\n",
       " 'PrintHood',\n",
       " 'PycharmProjects',\n",
       " 'Python Basics',\n",
       " 'Python_training',\n",
       " 'Recent',\n",
       " 'Saved Games',\n",
       " 'Searches',\n",
       " 'SendTo',\n",
       " 'source',\n",
       " 'Spark',\n",
       " 'Start Menu',\n",
       " 'Templates',\n",
       " 'Videos',\n",
       " 'Week-1',\n",
       " 'Week-2']"
      ]
     },
     "execution_count": 16,
     "metadata": {},
     "output_type": "execute_result"
    }
   ],
   "source": [
    "os.listdir(r'C:\\Users\\dbhabad')"
   ]
  },
  {
   "cell_type": "code",
   "execution_count": null,
   "id": "5dac44db",
   "metadata": {},
   "outputs": [],
   "source": []
  },
  {
   "cell_type": "code",
   "execution_count": 17,
   "id": "25ed00e6",
   "metadata": {},
   "outputs": [
    {
     "data": {
      "text/plain": [
       "False"
      ]
     },
     "execution_count": 17,
     "metadata": {},
     "output_type": "execute_result"
    }
   ],
   "source": [
    "os.path.exists('test')"
   ]
  },
  {
   "cell_type": "code",
   "execution_count": 18,
   "id": "136b348c",
   "metadata": {},
   "outputs": [],
   "source": [
    "os.mkdir('test')"
   ]
  },
  {
   "cell_type": "code",
   "execution_count": 19,
   "id": "48beb285",
   "metadata": {},
   "outputs": [
    {
     "data": {
      "text/plain": [
       "True"
      ]
     },
     "execution_count": 19,
     "metadata": {},
     "output_type": "execute_result"
    }
   ],
   "source": [
    "os.path.exists('test')"
   ]
  },
  {
   "cell_type": "code",
   "execution_count": 21,
   "id": "3c5fad79",
   "metadata": {},
   "outputs": [
    {
     "name": "stdout",
     "output_type": "stream",
     "text": [
      "No such folder..!!\n"
     ]
    }
   ],
   "source": [
    "if os.path.exists('test'):\n",
    "    os.rmdir('test')\n",
    "    print('Folder removed..!!')\n",
    "else:\n",
    "    print('No such folder..!!')"
   ]
  },
  {
   "cell_type": "code",
   "execution_count": 23,
   "id": "932c5882",
   "metadata": {},
   "outputs": [
    {
     "name": "stdout",
     "output_type": "stream",
     "text": [
      "Already Exists..!!\n"
     ]
    }
   ],
   "source": [
    "if not os.path.exists('test'):\n",
    "    os.mkdir('test')\n",
    "    print('Folder Created..!!')\n",
    "else:\n",
    "    print('Already Exists..!!')"
   ]
  },
  {
   "cell_type": "code",
   "execution_count": 25,
   "id": "eaed17ad",
   "metadata": {},
   "outputs": [
    {
     "data": {
      "text/plain": [
       "True"
      ]
     },
     "execution_count": 25,
     "metadata": {},
     "output_type": "execute_result"
    }
   ],
   "source": [
    "os.path.isdir('test')"
   ]
  },
  {
   "cell_type": "code",
   "execution_count": 31,
   "id": "0c7a3258",
   "metadata": {},
   "outputs": [
    {
     "data": {
      "text/plain": [
       "True"
      ]
     },
     "execution_count": 31,
     "metadata": {},
     "output_type": "execute_result"
    }
   ],
   "source": [
    "os.path.isfile(r'01. Getting Started.ipynb')"
   ]
  },
  {
   "cell_type": "markdown",
   "id": "0f26596a",
   "metadata": {},
   "source": [
    "# File operations"
   ]
  },
  {
   "cell_type": "code",
   "execution_count": 32,
   "id": "0e940840",
   "metadata": {},
   "outputs": [
    {
     "ename": "FileNotFoundError",
     "evalue": "[Errno 2] No such file or directory: 'sample.txt'",
     "output_type": "error",
     "traceback": [
      "\u001b[1;31m---------------------------------------------------------------------------\u001b[0m",
      "\u001b[1;31mFileNotFoundError\u001b[0m                         Traceback (most recent call last)",
      "\u001b[1;32m~\\AppData\\Local\\Temp\\ipykernel_10340\\3326299884.py\u001b[0m in \u001b[0;36m<module>\u001b[1;34m\u001b[0m\n\u001b[1;32m----> 1\u001b[1;33m \u001b[0mf\u001b[0m \u001b[1;33m=\u001b[0m \u001b[0mopen\u001b[0m\u001b[1;33m(\u001b[0m\u001b[1;34m'sample.txt'\u001b[0m\u001b[1;33m,\u001b[0m \u001b[1;34m'r'\u001b[0m\u001b[1;33m)\u001b[0m\u001b[1;33m\u001b[0m\u001b[1;33m\u001b[0m\u001b[0m\n\u001b[0m",
      "\u001b[1;31mFileNotFoundError\u001b[0m: [Errno 2] No such file or directory: 'sample.txt'"
     ]
    }
   ],
   "source": [
    "f = open('sample.txt', 'r') # can not read the file which doesn't exist"
   ]
  },
  {
   "cell_type": "code",
   "execution_count": 33,
   "id": "262004ae",
   "metadata": {},
   "outputs": [],
   "source": [
    "f = open('sample.txt', 'w')"
   ]
  },
  {
   "cell_type": "code",
   "execution_count": 34,
   "id": "bef6f4ac",
   "metadata": {},
   "outputs": [
    {
     "name": "stdout",
     "output_type": "stream",
     "text": [
      "False\n",
      "w\n"
     ]
    }
   ],
   "source": [
    "print(f.closed)\n",
    "print(f.mode)"
   ]
  },
  {
   "cell_type": "code",
   "execution_count": 35,
   "id": "359943db",
   "metadata": {},
   "outputs": [
    {
     "data": {
      "text/plain": [
       "29"
      ]
     },
     "execution_count": 35,
     "metadata": {},
     "output_type": "execute_result"
    }
   ],
   "source": [
    "f.write('Hi, this is a sample text..!!')"
   ]
  },
  {
   "cell_type": "code",
   "execution_count": 36,
   "id": "2450a986",
   "metadata": {},
   "outputs": [
    {
     "name": "stdout",
     "output_type": "stream",
     "text": [
      "True\n"
     ]
    }
   ],
   "source": [
    "f.close()\n",
    "print(f.closed)"
   ]
  },
  {
   "cell_type": "code",
   "execution_count": 39,
   "id": "5f857e3c",
   "metadata": {},
   "outputs": [
    {
     "name": "stdout",
     "output_type": "stream",
     "text": [
      "29\n"
     ]
    }
   ],
   "source": [
    "f = open('sample.txt', 'w')\n",
    "data = f.write('Hi, this is a sample text..!!')\n",
    "print(data)"
   ]
  },
  {
   "cell_type": "code",
   "execution_count": 40,
   "id": "57730adc",
   "metadata": {},
   "outputs": [],
   "source": [
    "f.close()"
   ]
  },
  {
   "cell_type": "code",
   "execution_count": 41,
   "id": "000a340c",
   "metadata": {},
   "outputs": [
    {
     "name": "stdout",
     "output_type": "stream",
     "text": [
      "Hi, this is a sample text..!!\n"
     ]
    }
   ],
   "source": [
    "f = open('sample.txt', 'r')\n",
    "data = f.read()\n",
    "print(data)"
   ]
  },
  {
   "cell_type": "code",
   "execution_count": 42,
   "id": "568097c7",
   "metadata": {},
   "outputs": [],
   "source": [
    "f.close()"
   ]
  },
  {
   "cell_type": "code",
   "execution_count": 43,
   "id": "619e1907",
   "metadata": {},
   "outputs": [],
   "source": [
    "f = open('sample.txt', 'a')\n",
    "f.write('\\nThis is second attempt of writing the file..!!')\n",
    "f.close()"
   ]
  },
  {
   "cell_type": "code",
   "execution_count": 45,
   "id": "816d009c",
   "metadata": {},
   "outputs": [
    {
     "name": "stdout",
     "output_type": "stream",
     "text": [
      "Hi, this i\n"
     ]
    }
   ],
   "source": [
    "f = open('sample.txt', 'r')\n",
    "data = f.read(10)\n",
    "print(data)"
   ]
  },
  {
   "cell_type": "code",
   "execution_count": 46,
   "id": "e51ce5f8",
   "metadata": {},
   "outputs": [
    {
     "name": "stdout",
     "output_type": "stream",
     "text": [
      "10\n"
     ]
    }
   ],
   "source": [
    "print(f.tell())"
   ]
  },
  {
   "cell_type": "code",
   "execution_count": 47,
   "id": "9ddd30c9",
   "metadata": {},
   "outputs": [
    {
     "name": "stdout",
     "output_type": "stream",
     "text": [
      "s a sample\n",
      "20\n"
     ]
    }
   ],
   "source": [
    "data = f.read(10)\n",
    "print(data)\n",
    "print(f.tell())"
   ]
  },
  {
   "cell_type": "code",
   "execution_count": 48,
   "id": "d29be16e",
   "metadata": {},
   "outputs": [
    {
     "name": "stdout",
     "output_type": "stream",
     "text": [
      "0\n",
      "Hi, this i\n",
      "10\n"
     ]
    }
   ],
   "source": [
    "f.seek(0)\n",
    "print(f.tell())\n",
    "\n",
    "data = f.read(10)\n",
    "print(data)\n",
    "\n",
    "print(f.tell())"
   ]
  },
  {
   "cell_type": "code",
   "execution_count": 51,
   "id": "5ad30515",
   "metadata": {},
   "outputs": [
    {
     "name": "stdout",
     "output_type": "stream",
     "text": [
      "Hi, this is a sample text..!!\n",
      "This is second attempt of writing the file..!!\n",
      "\n",
      "Done\n",
      "True\n"
     ]
    }
   ],
   "source": [
    "with open('sample.txt', 'r') as f:\n",
    "    data = f.read()\n",
    "    print(data)\n",
    "    \n",
    "print()\n",
    "print('Done')\n",
    "print(f.closed)"
   ]
  },
  {
   "cell_type": "code",
   "execution_count": 53,
   "id": "94c29f54",
   "metadata": {},
   "outputs": [],
   "source": [
    "f = open('sample', 'wb')\n",
    "f.write(b'This is binary data..!!')\n",
    "f.close()"
   ]
  },
  {
   "cell_type": "code",
   "execution_count": 54,
   "id": "cd88a428",
   "metadata": {},
   "outputs": [
    {
     "name": "stdout",
     "output_type": "stream",
     "text": [
      "<class 'str'>\n",
      "<class 'bytes'>\n"
     ]
    }
   ],
   "source": [
    "a = 'This is binary data..!!'\n",
    "b = b'This is binary data..!!'\n",
    "print(type(a))\n",
    "print(type(b))"
   ]
  },
  {
   "cell_type": "code",
   "execution_count": 55,
   "id": "b70c4a25",
   "metadata": {},
   "outputs": [
    {
     "name": "stdout",
     "output_type": "stream",
     "text": [
      "b'This is binary data..!!'\n",
      "<class 'bytes'>\n"
     ]
    }
   ],
   "source": [
    "f = open('sample', 'rb')\n",
    "data = f.read()\n",
    "print(data)\n",
    "print(type(data))\n",
    "f.close()"
   ]
  },
  {
   "cell_type": "code",
   "execution_count": null,
   "id": "cd1ac5af",
   "metadata": {},
   "outputs": [],
   "source": [
    "f = open('sample', 'r')\n",
    "data = f.read()\n",
    "print(data)\n",
    "print(type(data))\n",
    "f.close()"
   ]
  },
  {
   "cell_type": "code",
   "execution_count": 56,
   "id": "6cb43fff",
   "metadata": {},
   "outputs": [
    {
     "name": "stdout",
     "output_type": "stream",
     "text": [
      "b'd\\x00\\x00\\x00\\xc8\\x00\\x00\\x00,\\x01\\x00\\x00\\x00\\x00\\xc8C'\n",
      "(100, 200, 300, 400.0)\n"
     ]
    }
   ],
   "source": [
    "from struct import pack, unpack\n",
    "s = pack('<iiif', 100, 200, 300, 400.0000)\n",
    "print(s)\n",
    "data = unpack('<iiif', s)\n",
    "print(data)"
   ]
  },
  {
   "cell_type": "code",
   "execution_count": null,
   "id": "1b35e1c1",
   "metadata": {},
   "outputs": [],
   "source": []
  },
  {
   "cell_type": "code",
   "execution_count": null,
   "id": "eaacc0cd",
   "metadata": {},
   "outputs": [],
   "source": []
  },
  {
   "cell_type": "code",
   "execution_count": null,
   "id": "c7cca247",
   "metadata": {},
   "outputs": [],
   "source": []
  },
  {
   "cell_type": "code",
   "execution_count": null,
   "id": "3073f967",
   "metadata": {},
   "outputs": [],
   "source": []
  },
  {
   "cell_type": "code",
   "execution_count": null,
   "id": "d085bac2",
   "metadata": {},
   "outputs": [],
   "source": []
  },
  {
   "cell_type": "code",
   "execution_count": null,
   "id": "c19965a9",
   "metadata": {},
   "outputs": [],
   "source": []
  },
  {
   "cell_type": "code",
   "execution_count": null,
   "id": "6ae503e1",
   "metadata": {},
   "outputs": [],
   "source": []
  },
  {
   "cell_type": "code",
   "execution_count": null,
   "id": "9bb44b9b",
   "metadata": {},
   "outputs": [],
   "source": []
  },
  {
   "cell_type": "code",
   "execution_count": null,
   "id": "c6b17355",
   "metadata": {},
   "outputs": [],
   "source": []
  },
  {
   "cell_type": "code",
   "execution_count": null,
   "id": "e60fc5c9",
   "metadata": {},
   "outputs": [],
   "source": []
  },
  {
   "cell_type": "code",
   "execution_count": 64,
   "id": "5fc64865",
   "metadata": {},
   "outputs": [
    {
     "name": "stdout",
     "output_type": "stream",
     "text": [
      "Tax\\Ram.txt\n",
      "Tax\\Shyam.txt\n",
      "Audit\\Geeta.txt\n",
      "Audit\\Seeta.txt\n",
      "IT\\John.txt\n",
      "IT\\Bob.txt\n"
     ]
    }
   ],
   "source": [
    "# prepare the files and directories structre from below dict object\n",
    "# name of dir => dept name\n",
    "# name of file => emp_name\n",
    "# contents of file => emp sal\n",
    "\n",
    "d1 = {'Tax': [('Ram', 10000), ('Shyam', 15000)],\n",
    "     'Audit': [('Geeta', 12000), ('Seeta', 13000)],\n",
    "     'IT': [('John', 18000), ('Bob', 18000)]}\n",
    "\n",
    "\n",
    "for dept, emp_data in d1.items():\n",
    "    if not os.path.exists(dept):\n",
    "        os.mkdir(dept)\n",
    "    for emp in emp_data:\n",
    "        print(dept + '\\\\' + emp[0] + '.txt')\n",
    "        if not os.path.exists(dept + '\\\\' + emp[0] + '.txt'):\n",
    "            f = open(dept + '\\\\' + emp[0] + '.txt', 'w')\n",
    "            f.write(str(emp[1]))\n",
    "            f.close()"
   ]
  },
  {
   "cell_type": "code",
   "execution_count": null,
   "id": "c4ec8a28",
   "metadata": {},
   "outputs": [],
   "source": []
  }
 ],
 "metadata": {
  "kernelspec": {
   "display_name": "Python 3 (ipykernel)",
   "language": "python",
   "name": "python3"
  },
  "language_info": {
   "codemirror_mode": {
    "name": "ipython",
    "version": 3
   },
   "file_extension": ".py",
   "mimetype": "text/x-python",
   "name": "python",
   "nbconvert_exporter": "python",
   "pygments_lexer": "ipython3",
   "version": "3.9.13"
  }
 },
 "nbformat": 4,
 "nbformat_minor": 5
}
